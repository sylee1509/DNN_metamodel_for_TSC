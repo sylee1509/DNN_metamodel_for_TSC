{
 "cells": [
  {
   "cell_type": "code",
   "execution_count": null,
   "id": "5704a61d",
   "metadata": {},
   "outputs": [],
   "source": [
    "import pandas as pd\n",
    "import numpy as np\n",
    "from sklearn.model_selection import train_test_split\n",
    "import tensorflow as tf\n",
    "from tensorflow.keras.layers import *\n",
    "from sklearn.metrics import *"
   ]
  },
  {
   "cell_type": "code",
   "execution_count": null,
   "id": "277debd3",
   "metadata": {},
   "outputs": [],
   "source": [
    "import matplotlib.pyplot as plt\n",
    "import seaborn as sns\n",
    "from matplotlib import gridspec"
   ]
  },
  {
   "cell_type": "code",
   "execution_count": null,
   "id": "0f0bbf51",
   "metadata": {},
   "outputs": [],
   "source": [
    "gpus = tf.config.experimental.list_physical_devices('GPU')\n",
    "if gpus:\n",
    "    try:\n",
    "        tf.config.experimental.set_memory_growth(gpus[0], True)\n",
    "    except RuntimeError as e:\n",
    "        print(e)"
   ]
  },
  {
   "cell_type": "code",
   "execution_count": null,
   "id": "41effdad",
   "metadata": {},
   "outputs": [],
   "source": [
    "model = tf.keras.models.load_model(\"models/model_MMoE_original\")"
   ]
  },
  {
   "cell_type": "code",
   "execution_count": null,
   "id": "54e7753e",
   "metadata": {},
   "outputs": [],
   "source": []
  },
  {
   "cell_type": "markdown",
   "id": "2e6d141c",
   "metadata": {},
   "source": [
    "# Load Data"
   ]
  },
  {
   "cell_type": "code",
   "execution_count": null,
   "id": "1e07171c",
   "metadata": {},
   "outputs": [],
   "source": [
    "import csv\n",
    "\n",
    "with open('data/test_networks.csv', 'r', newline='') as myfile:\n",
    "     wr = csv.reader(myfile, quoting=csv.QUOTE_ALL)\n",
    "     test_data = list(wr)[0]"
   ]
  },
  {
   "cell_type": "code",
   "execution_count": null,
   "id": "90e6fc51",
   "metadata": {},
   "outputs": [],
   "source": [
    "df_simulation = pd.read_csv(f'data/data_total.csv', index_col=0)"
   ]
  },
  {
   "cell_type": "code",
   "execution_count": null,
   "id": "70a88a8a",
   "metadata": {},
   "outputs": [],
   "source": [
    "df_simulation.columns"
   ]
  },
  {
   "cell_type": "code",
   "execution_count": null,
   "id": "3d032d8a",
   "metadata": {},
   "outputs": [],
   "source": [
    "df_simulation_test = df_simulation.loc[df_simulation['id'].isin(test_data)]\n",
    "df_simulation_test.reset_index(inplace=True)"
   ]
  },
  {
   "cell_type": "code",
   "execution_count": null,
   "id": "1741f66e",
   "metadata": {},
   "outputs": [],
   "source": [
    "performance_measures = ['wait', 'travel', 'timeloss', 'stop', 'speed']"
   ]
  },
  {
   "cell_type": "code",
   "execution_count": null,
   "id": "0f75ed4a",
   "metadata": {},
   "outputs": [],
   "source": [
    "for pm in performance_measures:\n",
    "    df_simulation_test.loc[:, pm] = df_simulation_test[[f'{pm}{i}' for i in range(5)]].mean(axis=1)"
   ]
  },
  {
   "cell_type": "code",
   "execution_count": null,
   "id": "e8dc239d",
   "metadata": {},
   "outputs": [],
   "source": [
    "df_simulation_test"
   ]
  },
  {
   "cell_type": "markdown",
   "id": "6552ee63",
   "metadata": {},
   "source": [
    "# Seaborn settings"
   ]
  },
  {
   "cell_type": "code",
   "execution_count": null,
   "id": "a83e56b6",
   "metadata": {},
   "outputs": [],
   "source": [
    "sns.set()"
   ]
  },
  {
   "cell_type": "code",
   "execution_count": null,
   "id": "7ca254f9",
   "metadata": {},
   "outputs": [],
   "source": [
    "palette = sns.color_palette()"
   ]
  },
  {
   "cell_type": "markdown",
   "id": "eab5637d",
   "metadata": {},
   "source": [
    "# 1000 simulation sample data for paper"
   ]
  },
  {
   "cell_type": "code",
   "execution_count": null,
   "id": "aafb525d",
   "metadata": {},
   "outputs": [],
   "source": [
    "df_simulation_sample = df_simulation_test.sample(n=1000, random_state=0)"
   ]
  },
  {
   "cell_type": "markdown",
   "id": "ecc86b05",
   "metadata": {},
   "source": [
    "# Original Data EDA"
   ]
  },
  {
   "cell_type": "code",
   "execution_count": null,
   "id": "c601f800",
   "metadata": {
    "scrolled": true
   },
   "outputs": [],
   "source": [
    "df_simulation_sample.head()"
   ]
  },
  {
   "cell_type": "code",
   "execution_count": null,
   "id": "c64b1d16",
   "metadata": {},
   "outputs": [],
   "source": [
    "df_simulation_sample.columns"
   ]
  },
  {
   "cell_type": "code",
   "execution_count": null,
   "id": "e82a91c4",
   "metadata": {},
   "outputs": [],
   "source": [
    "df_simulation_sample"
   ]
  },
  {
   "cell_type": "code",
   "execution_count": null,
   "id": "6b26791e",
   "metadata": {},
   "outputs": [],
   "source": [
    "df_simulation_sample['speed'].describe()"
   ]
  },
  {
   "cell_type": "code",
   "execution_count": null,
   "id": "bbe8aa5b",
   "metadata": {},
   "outputs": [],
   "source": [
    "df_simulation_sample.sort_values(by='wait')[[f'wait{i}' for i in range(5)]].reset_index(drop=True)"
   ]
  },
  {
   "cell_type": "markdown",
   "id": "7a044dd9",
   "metadata": {},
   "source": [
    "## Replication lineplot analysis"
   ]
  },
  {
   "cell_type": "code",
   "execution_count": null,
   "id": "778865ab",
   "metadata": {},
   "outputs": [],
   "source": [
    "df_simulation_test_pm = dict()"
   ]
  },
  {
   "cell_type": "code",
   "execution_count": null,
   "id": "ada34aee",
   "metadata": {},
   "outputs": [],
   "source": [
    "for pm in performance_measures:\n",
    "    df_simulation_test_pm[pm] = df_simulation_sample.sort_values(by=pm)[[f'{pm}{i}' for i in range(5)]].reset_index(drop=True)"
   ]
  },
  {
   "cell_type": "code",
   "execution_count": null,
   "id": "2c8c776d",
   "metadata": {},
   "outputs": [],
   "source": [
    "sns.set(font_scale=2)"
   ]
  },
  {
   "cell_type": "code",
   "execution_count": null,
   "id": "a8ae34ee",
   "metadata": {
    "scrolled": true
   },
   "outputs": [],
   "source": [
    "fig = plt.figure(figsize=(20,8))\n",
    "axes = []\n",
    "for i in range(5):\n",
    "    axes.append(fig.add_subplot(2, 3, i+1))"
   ]
  },
  {
   "cell_type": "code",
   "execution_count": null,
   "id": "591154f8",
   "metadata": {},
   "outputs": [],
   "source": [
    "pm_title = ['waiting time (s)', 'travel time (s)', 'time loss (s)', 'waiting count (num)', 'speed (m/s)']"
   ]
  },
  {
   "cell_type": "code",
   "execution_count": null,
   "id": "97beafd7",
   "metadata": {},
   "outputs": [],
   "source": [
    "for i, pm in enumerate(performance_measures):\n",
    "    temp = df_simulation_test_pm[pm].stack().reset_index()\n",
    "    temp.columns = ['idx', 'pm', pm]\n",
    "    p = sns.lineplot(data=temp, x=\"idx\", y=pm, ax=axes[i], color=palette[i])\n",
    "    p.set_ylabel(pm_title[i])\n",
    "    p.set_xlabel('instance index')"
   ]
  },
  {
   "cell_type": "code",
   "execution_count": null,
   "id": "8c75c72a",
   "metadata": {},
   "outputs": [],
   "source": [
    "fig.subplots_adjust(hspace=0.3, wspace=0.3)"
   ]
  },
  {
   "cell_type": "code",
   "execution_count": null,
   "id": "0ada993c",
   "metadata": {},
   "outputs": [],
   "source": [
    "fig"
   ]
  },
  {
   "cell_type": "code",
   "execution_count": null,
   "id": "b514f939",
   "metadata": {},
   "outputs": [],
   "source": [
    "fig.savefig('figures/original_data_replication.png', bbox_inches='tight')"
   ]
  },
  {
   "cell_type": "code",
   "execution_count": null,
   "id": "0f6837eb",
   "metadata": {},
   "outputs": [],
   "source": []
  },
  {
   "cell_type": "markdown",
   "id": "b91e4c4b",
   "metadata": {},
   "source": [
    "## Total data box plot"
   ]
  },
  {
   "cell_type": "code",
   "execution_count": null,
   "id": "e2df957b",
   "metadata": {},
   "outputs": [],
   "source": [
    "df_simulation_box_plot = list()\n",
    "df_simulation_box_plot.append(df_simulation_sample[performance_measures[0:3]].reset_index(drop=True))\n",
    "df_simulation_box_plot.append(df_simulation_sample[performance_measures[3]].reset_index(drop=True))\n",
    "df_simulation_box_plot.append(df_simulation_sample[performance_measures[4]].reset_index(drop=True))"
   ]
  },
  {
   "cell_type": "code",
   "execution_count": null,
   "id": "7911b630",
   "metadata": {},
   "outputs": [],
   "source": [
    "sns.set(font_scale=2.5)"
   ]
  },
  {
   "cell_type": "code",
   "execution_count": null,
   "id": "b42ef5c2",
   "metadata": {},
   "outputs": [],
   "source": [
    "fig1 = plt.figure(figsize=(20,8))\n",
    "gs = gridspec.GridSpec(1, 3, width_ratios=[3,1,1])\n",
    "axes1 = []\n",
    "for i in range(3):\n",
    "    axes1.append(plt.subplot(gs[i]))"
   ]
  },
  {
   "cell_type": "code",
   "execution_count": null,
   "id": "d83ae7e9",
   "metadata": {},
   "outputs": [],
   "source": [
    "p = sns.boxplot(data=df_simulation_box_plot[0], ax=axes1[0], palette=palette)\n",
    "p.set_xlabel(None)\n",
    "p.set_xticklabels(['waiting time', 'travel time', 'time loss'])\n",
    "p.set_ylabel('value (s)')"
   ]
  },
  {
   "cell_type": "code",
   "execution_count": null,
   "id": "6101bec4",
   "metadata": {
    "scrolled": true
   },
   "outputs": [],
   "source": [
    "p = sns.boxplot(data=df_simulation_box_plot[1], ax=axes1[1], color=palette[3])\n",
    "p.set_xlabel(None)\n",
    "p.set_xticklabels(['waiting count'])\n",
    "p.set_ylabel('value (num)')"
   ]
  },
  {
   "cell_type": "code",
   "execution_count": null,
   "id": "b57d82fa",
   "metadata": {},
   "outputs": [],
   "source": [
    "p = sns.boxplot(data=df_simulation_box_plot[2], ax=axes1[2], color=palette[4])\n",
    "p.set_xlabel(None)\n",
    "p.set_xticklabels(['speed'])\n",
    "p.set_ylabel('value (m/s)')"
   ]
  },
  {
   "cell_type": "code",
   "execution_count": null,
   "id": "e9eaff83",
   "metadata": {},
   "outputs": [],
   "source": [
    "fig1.subplots_adjust(hspace=0.3, wspace=0.3)"
   ]
  },
  {
   "cell_type": "code",
   "execution_count": null,
   "id": "99a5ff90",
   "metadata": {},
   "outputs": [],
   "source": [
    "fig1"
   ]
  },
  {
   "cell_type": "code",
   "execution_count": null,
   "id": "5afb3cb4",
   "metadata": {},
   "outputs": [],
   "source": [
    "fig1.savefig('figures/original_data_box_plot.png', bbox_inches='tight')"
   ]
  },
  {
   "cell_type": "markdown",
   "id": "3ee719b3",
   "metadata": {},
   "source": [
    "# Model data EDA"
   ]
  },
  {
   "cell_type": "code",
   "execution_count": null,
   "id": "e052d328",
   "metadata": {},
   "outputs": [],
   "source": [
    "df_comparison = pd.read_csv('data/data_comparison.csv', index_col=0)\n",
    "df_comparison"
   ]
  },
  {
   "cell_type": "code",
   "execution_count": null,
   "id": "15f6827f",
   "metadata": {},
   "outputs": [],
   "source": [
    "for pm in performance_measures:\n",
    "    df_comparison.loc[:, f'{pm}_diff'] = df_comparison.loc[:, pm] - df_comparison.loc[:, f'{pm}_pred']"
   ]
  },
  {
   "cell_type": "code",
   "execution_count": null,
   "id": "52d83cb5",
   "metadata": {},
   "outputs": [],
   "source": [
    "df_comparison"
   ]
  },
  {
   "cell_type": "markdown",
   "id": "10080fe8",
   "metadata": {},
   "source": [
    "## Difference box plot"
   ]
  },
  {
   "cell_type": "code",
   "execution_count": null,
   "id": "b5eb92be",
   "metadata": {},
   "outputs": [],
   "source": [
    "df_comparison_box_plot = list()\n",
    "df_comparison_box_plot.append(df_comparison[[f'{pm}_diff' for pm in performance_measures[0:3]]].reset_index(drop=True))\n",
    "df_comparison_box_plot.append(df_comparison[f'{performance_measures[3]}_diff'].reset_index(drop=True))\n",
    "df_comparison_box_plot.append(df_comparison[f'{performance_measures[4]}_diff'].reset_index(drop=True))"
   ]
  },
  {
   "cell_type": "code",
   "execution_count": null,
   "id": "6a09120b",
   "metadata": {},
   "outputs": [],
   "source": [
    "sns.set(font_scale=2.7)"
   ]
  },
  {
   "cell_type": "code",
   "execution_count": null,
   "id": "fec15cf5",
   "metadata": {},
   "outputs": [],
   "source": [
    "fig2 = plt.figure(figsize=(20,8))\n",
    "gs = gridspec.GridSpec(1, 3, width_ratios=[3,1,1])\n",
    "axes2 = []\n",
    "for i in range(3):\n",
    "    axes2.append(plt.subplot(gs[i]))"
   ]
  },
  {
   "cell_type": "code",
   "execution_count": null,
   "id": "d5e99dde",
   "metadata": {},
   "outputs": [],
   "source": [
    "p = sns.violinplot(data=df_comparison_box_plot[0], ax=axes2[0], palette=palette)\n",
    "p.set_xlabel(None)\n",
    "p.set_xticklabels(['waiting time', 'travel time', 'time loss'])\n",
    "p.set_ylabel('error (s)')\n",
    "p.set_ylim(-45, 45)"
   ]
  },
  {
   "cell_type": "code",
   "execution_count": null,
   "id": "2ebc28f2",
   "metadata": {},
   "outputs": [],
   "source": [
    "p = sns.violinplot(data=df_comparison_box_plot[1], ax=axes2[1], color=palette[3])\n",
    "p.set_xlabel(None)\n",
    "p.set_xticklabels(['waiting count'])\n",
    "p.set_ylabel('error (num)')\n",
    "p.set_ylim(-1.2, 1.2)"
   ]
  },
  {
   "cell_type": "code",
   "execution_count": null,
   "id": "6154813b",
   "metadata": {},
   "outputs": [],
   "source": [
    "p = sns.violinplot(data=df_comparison_box_plot[2], ax=axes2[2], color=palette[4])\n",
    "p.set_xlabel(None)\n",
    "p.set_xticklabels(['speed'])\n",
    "p.set_ylabel('error (m/s)')\n",
    "p.set_ylim(-1.2, 1.2)"
   ]
  },
  {
   "cell_type": "code",
   "execution_count": null,
   "id": "2c5de89a",
   "metadata": {},
   "outputs": [],
   "source": [
    "fig2.subplots_adjust(wspace=0.4)"
   ]
  },
  {
   "cell_type": "code",
   "execution_count": null,
   "id": "c487da9a",
   "metadata": {},
   "outputs": [],
   "source": [
    "fig2"
   ]
  },
  {
   "cell_type": "code",
   "execution_count": null,
   "id": "c93a0e42",
   "metadata": {},
   "outputs": [],
   "source": [
    "fig2.savefig('figures/error_violin_plot.png', bbox_inches='tight')"
   ]
  },
  {
   "cell_type": "code",
   "execution_count": null,
   "id": "2cb69e74",
   "metadata": {},
   "outputs": [],
   "source": []
  },
  {
   "cell_type": "markdown",
   "id": "b0f02386",
   "metadata": {},
   "source": [
    "## MAPE for all test sample intersections"
   ]
  },
  {
   "cell_type": "code",
   "execution_count": null,
   "id": "c3b457e4",
   "metadata": {},
   "outputs": [],
   "source": [
    "df_comparison"
   ]
  },
  {
   "cell_type": "code",
   "execution_count": null,
   "id": "fecf3505",
   "metadata": {},
   "outputs": [],
   "source": [
    "for pm in performance_measures:\n",
    "    df_comparison.loc[:, f'{pm}_mape'] = 100 * abs(df_comparison.loc[:, f'{pm}_diff']) / df_comparison.loc[:, pm]"
   ]
  },
  {
   "cell_type": "code",
   "execution_count": null,
   "id": "b434d299",
   "metadata": {},
   "outputs": [],
   "source": [
    "df_comparison.head()"
   ]
  },
  {
   "cell_type": "code",
   "execution_count": null,
   "id": "bec43f68",
   "metadata": {},
   "outputs": [],
   "source": [
    "df_comparison.loc[:, 'lanenum'] = df_comparison.loc[:, '1'] + df_comparison.loc[:, '2'] + df_comparison.loc[:, '3'] + df_comparison.loc[:, '4']"
   ]
  },
  {
   "cell_type": "code",
   "execution_count": null,
   "id": "e5d8ccaa",
   "metadata": {},
   "outputs": [],
   "source": [
    "df_comparison_temp = df_comparison.reset_index(drop=True)"
   ]
  },
  {
   "cell_type": "code",
   "execution_count": null,
   "id": "5d6e6590",
   "metadata": {
    "scrolled": true
   },
   "outputs": [],
   "source": [
    "df_mape = df_comparison_temp.groupby('id')[[f'{pm}_mape' for pm in performance_measures]].mean().round(2)\n",
    "df_mape"
   ]
  },
  {
   "cell_type": "code",
   "execution_count": null,
   "id": "eaff97d1",
   "metadata": {},
   "outputs": [],
   "source": [
    "temp = df_comparison_temp.groupby('id')[[f'{pm}_mape' for pm in performance_measures]].std().round(2)\n",
    "temp.loc[:,:] = temp.loc[:,:]"
   ]
  },
  {
   "cell_type": "code",
   "execution_count": null,
   "id": "b3bbc8b3",
   "metadata": {},
   "outputs": [],
   "source": [
    "df_mape.loc[:,:] = df_mape.loc[:,:].astype(str) + ' (' + temp.loc[:,:].astype(str) + ')'"
   ]
  },
  {
   "cell_type": "code",
   "execution_count": null,
   "id": "87c7aabb",
   "metadata": {},
   "outputs": [],
   "source": [
    "df_mape.to_csv('data/test_mape.csv')"
   ]
  },
  {
   "cell_type": "markdown",
   "id": "d3d16cb8",
   "metadata": {},
   "source": [
    "## Overall MAPE"
   ]
  },
  {
   "cell_type": "code",
   "execution_count": null,
   "id": "69921b78",
   "metadata": {},
   "outputs": [],
   "source": [
    "df_comparison[[f'{pm}_mape' for pm in performance_measures]].describe()"
   ]
  },
  {
   "cell_type": "code",
   "execution_count": null,
   "id": "a9c3c928",
   "metadata": {},
   "outputs": [],
   "source": [
    "df_comparison[[f'{pm}_diff' for pm in performance_measures]].describe()"
   ]
  },
  {
   "cell_type": "code",
   "execution_count": null,
   "id": "090b12c7",
   "metadata": {},
   "outputs": [],
   "source": []
  },
  {
   "cell_type": "markdown",
   "id": "f42f93df",
   "metadata": {},
   "source": [
    "## Scatter plot error vs true PM"
   ]
  },
  {
   "cell_type": "code",
   "execution_count": null,
   "id": "b226f308",
   "metadata": {},
   "outputs": [],
   "source": [
    "sns.set(font_scale=2.5)"
   ]
  },
  {
   "cell_type": "code",
   "execution_count": null,
   "id": "ba661bc5",
   "metadata": {},
   "outputs": [],
   "source": [
    "df_tendency_mape = df_comparison.sample(n=1000, random_state=0).reset_index(drop=True)"
   ]
  },
  {
   "cell_type": "code",
   "execution_count": null,
   "id": "de81f8d6",
   "metadata": {},
   "outputs": [],
   "source": [
    "fig = plt.figure(figsize=(20,4))\n",
    "gs = gridspec.GridSpec(1, 3, width_ratios=[1,1,1])\n",
    "axes = []\n",
    "for i in range(3):\n",
    "    axes.append(plt.subplot(gs[i]))"
   ]
  },
  {
   "cell_type": "code",
   "execution_count": null,
   "id": "f8bbaf07",
   "metadata": {},
   "outputs": [],
   "source": [
    "temp_df = df_tendency_mape.set_index(['wait'])[['wait_diff']].stack().reset_index()\n",
    "temp_df['level_1'] = 'waiting time'\n",
    "temp_df.columns = ['waiting time (s)', 'performance measure', 'value']\n",
    "\n",
    "p = sns.scatterplot(data=temp_df, x='waiting time (s)', y='value', ax=axes[0], color=palette[0])\n",
    "p.set_ylabel('error (s)')"
   ]
  },
  {
   "cell_type": "code",
   "execution_count": null,
   "id": "00ee794e",
   "metadata": {},
   "outputs": [],
   "source": [
    "temp_df = df_tendency_mape.set_index(['travel'])[['travel_diff']].stack().reset_index()\n",
    "temp_df['level_1'] = 'travel time'\n",
    "temp_df.columns = ['travel time (s)', 'performance measure', 'value']\n",
    "\n",
    "p = sns.scatterplot(data=temp_df, x='travel time (s)', y='value', ax=axes[1], color=palette[1])\n",
    "p.set_ylabel('error (s)')"
   ]
  },
  {
   "cell_type": "code",
   "execution_count": null,
   "id": "29f81acf",
   "metadata": {},
   "outputs": [],
   "source": [
    "temp_df = df_tendency_mape.set_index(['timeloss'])[['timeloss_diff']].stack().reset_index()\n",
    "temp_df['level_1'] = 'time loss'\n",
    "temp_df.columns = ['time loss (s)', 'performance measure', 'value']\n",
    "\n",
    "p = sns.scatterplot(data=temp_df, x='time loss (s)', y='value', ax=axes[2], color=palette[2])\n",
    "p.set_ylabel('error (s)')"
   ]
  },
  {
   "cell_type": "code",
   "execution_count": null,
   "id": "3e770b74",
   "metadata": {},
   "outputs": [],
   "source": [
    "fig.subplots_adjust(wspace=0.35)"
   ]
  },
  {
   "cell_type": "code",
   "execution_count": null,
   "id": "6646e491",
   "metadata": {},
   "outputs": [],
   "source": [
    "fig"
   ]
  },
  {
   "cell_type": "code",
   "execution_count": null,
   "id": "c989bed9",
   "metadata": {},
   "outputs": [],
   "source": [
    "fig.savefig('figures/error_vs_pm_1.png', bbox_inches='tight')"
   ]
  },
  {
   "cell_type": "code",
   "execution_count": null,
   "id": "27514ffe",
   "metadata": {},
   "outputs": [],
   "source": [
    "fig = plt.figure(figsize=(20,4))\n",
    "gs = gridspec.GridSpec(1, 2, width_ratios=[1,1])\n",
    "axes = []\n",
    "for i in range(2):\n",
    "    axes.append(plt.subplot(gs[i]))"
   ]
  },
  {
   "cell_type": "code",
   "execution_count": null,
   "id": "b7e35eae",
   "metadata": {},
   "outputs": [],
   "source": [
    "temp_df = df_tendency_mape.set_index(['stop'])[['stop_diff']].stack().reset_index()\n",
    "temp_df['level_1'] = 'waiting count'\n",
    "temp_df.columns = ['pm', 'performance measure', 'value']\n",
    "\n",
    "p = sns.scatterplot(data=temp_df, x='pm', y='value', ax=axes[0], color=palette[3])\n",
    "p.set_xlabel('waiting time (num)')\n",
    "p.set_ylabel('error (num)')"
   ]
  },
  {
   "cell_type": "code",
   "execution_count": null,
   "id": "3d7e0366",
   "metadata": {},
   "outputs": [],
   "source": [
    "temp_df = df_tendency_mape.set_index(['speed'])[['speed_diff']].stack().reset_index()\n",
    "temp_df['level_1'] = 'speed'\n",
    "temp_df.columns = ['pm', 'performance measure', 'value']\n",
    "\n",
    "p = sns.scatterplot(data=temp_df, x='pm', y='value', ax=axes[1], color=palette[4])\n",
    "p.set_xlabel('speed (m/s)')\n",
    "p.set_ylabel('error (m/s)')"
   ]
  },
  {
   "cell_type": "code",
   "execution_count": null,
   "id": "96a6f26f",
   "metadata": {},
   "outputs": [],
   "source": [
    "fig.subplots_adjust(wspace=0.25)"
   ]
  },
  {
   "cell_type": "code",
   "execution_count": null,
   "id": "b1b1ddb2",
   "metadata": {},
   "outputs": [],
   "source": [
    "fig"
   ]
  },
  {
   "cell_type": "code",
   "execution_count": null,
   "id": "c7b0b15e",
   "metadata": {},
   "outputs": [],
   "source": [
    "fig.savefig('figures/error_vs_pm_2.png', bbox_inches='tight')"
   ]
  },
  {
   "cell_type": "code",
   "execution_count": null,
   "id": "65f87f4c",
   "metadata": {},
   "outputs": [],
   "source": []
  },
  {
   "cell_type": "markdown",
   "id": "90fdf6e0",
   "metadata": {},
   "source": [
    "# Tendency performance"
   ]
  },
  {
   "cell_type": "code",
   "execution_count": null,
   "id": "5a461b7a",
   "metadata": {},
   "outputs": [],
   "source": [
    "sns.set(font_scale=2.5)"
   ]
  },
  {
   "cell_type": "code",
   "execution_count": null,
   "id": "ed71d605",
   "metadata": {},
   "outputs": [],
   "source": [
    "df_tendency = pd.read_csv('data/tendency_pred.csv', index_col=0)"
   ]
  },
  {
   "cell_type": "code",
   "execution_count": null,
   "id": "3c0d64b2",
   "metadata": {
    "scrolled": true
   },
   "outputs": [],
   "source": [
    "df_tendency['wait'] = df_tendency[[f'wait{i}' for i in range(5)]].mean(axis=1)"
   ]
  },
  {
   "cell_type": "code",
   "execution_count": null,
   "id": "3328bc97",
   "metadata": {},
   "outputs": [],
   "source": [
    "df_tendency_1 = df_tendency[:94].reset_index(drop=True)\n",
    "df_tendency_2 = df_tendency[94:187].reset_index(drop=True)\n",
    "df_tendency_3 = df_tendency[187:280].reset_index(drop=True)\n",
    "df_tendency_4 = df_tendency[280:].reset_index(drop=True)"
   ]
  },
  {
   "cell_type": "code",
   "execution_count": null,
   "id": "3e1f23c2",
   "metadata": {},
   "outputs": [],
   "source": [
    "fig = plt.figure(figsize=(20,12))\n",
    "axes = []\n",
    "for i in range(4):\n",
    "    axes.append(fig.add_subplot(2, 2, i+1))"
   ]
  },
  {
   "cell_type": "code",
   "execution_count": null,
   "id": "304dab1d",
   "metadata": {},
   "outputs": [],
   "source": [
    "df_temp = [df_tendency_1, df_tendency_2, df_tendency_3, df_tendency_4]\n",
    "\n",
    "for i in range(4):\n",
    "    temp = df_temp[i][[f'p{i+1}', 'wait', 'wait_pred']]\n",
    "    temp.columns = [f'p{i+1}', 'simulator', 'DNN-based metamodel']\n",
    "    temp = temp.set_index(f'p{i+1}').stack().reset_index()\n",
    "\n",
    "    p = sns.lineplot(data=temp, x=f'p{i+1}', y=0, ax=axes[i], hue='level_1')\n",
    "    \n",
    "    handles, labels = axes[i].get_legend_handles_labels()\n",
    "    axes[i].legend(handles=handles[0:], labels=labels[0:])\n",
    "    \n",
    "    p.set_ylabel('waiting time (s)')\n",
    "    p.set_xlabel(f'duration of phase {i+1} (s)')"
   ]
  },
  {
   "cell_type": "code",
   "execution_count": null,
   "id": "2fcd0ebd",
   "metadata": {},
   "outputs": [],
   "source": [
    "fig.subplots_adjust(hspace=0.3, wspace=0.2)"
   ]
  },
  {
   "cell_type": "code",
   "execution_count": null,
   "id": "d925b1ca",
   "metadata": {},
   "outputs": [],
   "source": [
    "fig"
   ]
  },
  {
   "cell_type": "code",
   "execution_count": null,
   "id": "d0e5301b",
   "metadata": {},
   "outputs": [],
   "source": [
    "fig.savefig('figures/tendency.png', bbox_inches='tight')"
   ]
  },
  {
   "cell_type": "code",
   "execution_count": null,
   "id": "6736b420",
   "metadata": {},
   "outputs": [],
   "source": []
  },
  {
   "cell_type": "markdown",
   "id": "2b5f15ff",
   "metadata": {},
   "source": [
    "# Optimization performance on sample intersection"
   ]
  },
  {
   "cell_type": "code",
   "execution_count": null,
   "id": "d77738f7",
   "metadata": {},
   "outputs": [],
   "source": [
    "import glob"
   ]
  },
  {
   "cell_type": "markdown",
   "id": "43a71f0c",
   "metadata": {},
   "source": [
    "## Tabu"
   ]
  },
  {
   "cell_type": "code",
   "execution_count": null,
   "id": "32c88154",
   "metadata": {},
   "outputs": [],
   "source": [
    "li = list()\n",
    "columns = ['p1', 'p2', 'p3', 'p4', 'p1_best', 'p2_best', 'p3_best', 'p4_best', \n",
    "    'wait0','travel0', 'stop0', 'timeloss0', 'speed0', 'throughput0',\n",
    "       'to_be_throughput0', 'wait1', 'travel1', 'stop1', 'timeloss1', 'speed1',\n",
    "       'throughput1', 'to_be_throughput1', 'wait2', 'travel2', 'stop2',\n",
    "       'timeloss2', 'speed2', 'throughput2', 'to_be_throughput2', 'wait3',\n",
    "       'travel3', 'stop3', 'timeloss3', 'speed3', 'throughput3',\n",
    "       'to_be_throughput3', 'wait4', 'travel4', 'stop4', 'timeloss4', 'speed4',\n",
    "       'throughput4', 'to_be_throughput4', 'time', 'iteration_time',\n",
    "       'performance measure', 'veh_generated', 'scenario', 'phaseSeq',\n",
    "       'algorithm', 'iteration_type', 'step'\n",
    "]\n",
    "\n",
    "for filename in glob.glob('data/tabu_optimization/*.csv'):\n",
    "    temp_df = pd.read_csv(filename, index_col=None, names=columns, header=0)\n",
    "    temp_df = temp_df.drop(['algorithm', 'iteration_type'], axis=1).astype(float)\n",
    "\n",
    "    temp_str = filename.split(sep='_')\n",
    "    temp_df['id'] = '_'.join(temp_str[2:-1])\n",
    "    temp_df['idx'] = int(temp_str[-1].replace('.csv', ''))\n",
    "    li.append(temp_df.iloc[-1])\n",
    "\n",
    "df_tabu = pd.DataFrame(li).reset_index(drop=True)"
   ]
  },
  {
   "cell_type": "code",
   "execution_count": null,
   "id": "4d602d33",
   "metadata": {},
   "outputs": [],
   "source": [
    "df_tabu = df_tabu.drop([f'p{i}_best' for i in range(1, 5)], axis=1)"
   ]
  },
  {
   "cell_type": "code",
   "execution_count": null,
   "id": "4e1e2125",
   "metadata": {},
   "outputs": [],
   "source": [
    "df_tabu = df_tabu[df_tabu.idx < 1250]\n",
    "df_tabu = df_tabu.reset_index(drop=True)"
   ]
  },
  {
   "cell_type": "code",
   "execution_count": null,
   "id": "29db436c",
   "metadata": {},
   "outputs": [],
   "source": [
    "df_tabu"
   ]
  },
  {
   "cell_type": "code",
   "execution_count": null,
   "id": "e67bfde7",
   "metadata": {},
   "outputs": [],
   "source": [
    "for pm in performance_measures:\n",
    "    df_tabu.loc[:, pm] = df_tabu[[f'{pm}{i}' for i in range(5)]].mean(axis=1)"
   ]
  },
  {
   "cell_type": "code",
   "execution_count": null,
   "id": "e9652c47",
   "metadata": {},
   "outputs": [],
   "source": [
    "df_tabu.groupby('id').mean()[[*performance_measures, 'iteration_time']]"
   ]
  },
  {
   "cell_type": "code",
   "execution_count": null,
   "id": "f0c0debb",
   "metadata": {},
   "outputs": [],
   "source": [
    "df_tabu.groupby('id').mean()[[*performance_measures, 'iteration_time']].to_csv('data/table_tabu.csv')"
   ]
  },
  {
   "cell_type": "markdown",
   "id": "7c59cfa8",
   "metadata": {},
   "source": [
    "## ICA"
   ]
  },
  {
   "cell_type": "code",
   "execution_count": null,
   "id": "fe5fcdf6",
   "metadata": {},
   "outputs": [],
   "source": [
    "li = list()\n",
    "columns = ['p1', 'p2', 'p3', 'p4', 'p1_best', 'p2_best', 'p3_best', 'p4_best', \n",
    "    'wait0','travel0', 'stop0', 'timeloss0', 'speed0', 'throughput0',\n",
    "       'to_be_throughput0', 'wait1', 'travel1', 'stop1', 'timeloss1', 'speed1',\n",
    "       'throughput1', 'to_be_throughput1', 'wait2', 'travel2', 'stop2',\n",
    "       'timeloss2', 'speed2', 'throughput2', 'to_be_throughput2', 'wait3',\n",
    "       'travel3', 'stop3', 'timeloss3', 'speed3', 'throughput3',\n",
    "       'to_be_throughput3', 'wait4', 'travel4', 'stop4', 'timeloss4', 'speed4',\n",
    "       'throughput4', 'to_be_throughput4', 'time', 'iteration_time',\n",
    "       'performance measure', 'veh_generated', 'scenario', 'phaseSeq',\n",
    "       'algorithm', 'iteration_type', 'step'\n",
    "]\n",
    "\n",
    "for filename in glob.glob('data/TLS_ICA/*.csv'):\n",
    "    temp_df = pd.read_csv(filename, index_col=None, names=columns, header=0)\n",
    "    temp_df = temp_df[temp_df.iteration_type == 'best']\n",
    "    temp_df = temp_df.drop(['algorithm', 'iteration_type'], axis=1).astype(float)\n",
    "\n",
    "    temp_df.iloc[-1, temp_df.columns.get_loc('iteration_time')] = temp_df.iloc[-1].iteration_time + temp_df.iloc[0].iteration_time\n",
    "    \n",
    "    temp_str = filename.split(sep='_')\n",
    "    temp_df['id'] = '_'.join(temp_str[2:-1])\n",
    "    temp_df['idx'] = int(temp_str[-1].replace('.csv', ''))\n",
    "    li.append(temp_df.iloc[-1])\n",
    "\n",
    "df_ica = pd.DataFrame(li).reset_index(drop=True)"
   ]
  },
  {
   "cell_type": "code",
   "execution_count": null,
   "id": "b42ab3cc",
   "metadata": {},
   "outputs": [],
   "source": [
    "df_ica = df_ica.drop([f'p{i}_best' for i in range(1, 5)], axis=1)"
   ]
  },
  {
   "cell_type": "code",
   "execution_count": null,
   "id": "1a5100bb",
   "metadata": {},
   "outputs": [],
   "source": [
    "df_ica = df_ica[df_tabu.idx < 1250]\n",
    "df_ica = df_ica.reset_index(drop=True)"
   ]
  },
  {
   "cell_type": "code",
   "execution_count": null,
   "id": "42eff338",
   "metadata": {},
   "outputs": [],
   "source": [
    "df_ica"
   ]
  },
  {
   "cell_type": "code",
   "execution_count": null,
   "id": "6dcbf478",
   "metadata": {},
   "outputs": [],
   "source": [
    "for pm in performance_measures:\n",
    "    df_ica.loc[:, pm] = df_ica[[f'{pm}{i}' for i in range(5)]].mean(axis=1)"
   ]
  },
  {
   "cell_type": "code",
   "execution_count": null,
   "id": "2c36e59a",
   "metadata": {},
   "outputs": [],
   "source": [
    "df_ica.groupby('id').mean()[[*performance_measures, 'iteration_time']]"
   ]
  },
  {
   "cell_type": "code",
   "execution_count": null,
   "id": "8c10e79b",
   "metadata": {},
   "outputs": [],
   "source": [
    "df_ica.groupby('id').mean()[[*performance_measures, 'iteration_time']].to_csv('data/table_ica.csv')"
   ]
  },
  {
   "cell_type": "code",
   "execution_count": null,
   "id": "d4da8c79",
   "metadata": {},
   "outputs": [],
   "source": []
  },
  {
   "cell_type": "markdown",
   "id": "e5279f4e",
   "metadata": {},
   "source": [
    "## Random traffic signal"
   ]
  },
  {
   "cell_type": "code",
   "execution_count": null,
   "id": "db370f49",
   "metadata": {},
   "outputs": [],
   "source": [
    "li = list()\n",
    "columns = ['1', '1l', '1r', '1s', '2', '2l', '2r', '2s', '3', '3l', '3r', '3s',\n",
    "       '4', '4l', '4r', '4s', '1_2', '1_3', '1_4', '2_1', '2_3', '2_4', '3_1',\n",
    "       '3_2', '3_4', '4_1', '4_2', '4_3', 'p1','p2', 'p3','p4', 'wait0', 'travel0', 'stop0', 'timeloss0',\n",
    "       'speed0', 'wait1', 'travel1', 'stop1', 'timeloss1', 'speed1', 'wait2',\n",
    "       'travel2', 'stop2', 'timeloss2', 'speed2', 'wait3', 'travel3', 'stop3',\n",
    "       'timeloss3', 'speed3', 'wait4', 'travel4', 'stop4', 'timeloss4',\n",
    "       'speed4', 'time', 'performance measure', 'id'\n",
    "]\n",
    "\n",
    "for filename in glob.glob('data/TLS_random/*.csv'):\n",
    "    if int(filename.split(sep='_')[-1].replace('.csv', '')) >= 50:\n",
    "        continue\n",
    "    \n",
    "    \n",
    "    temp_df = pd.read_csv(filename, index_col=0).drop('id', axis=1).mean()\n",
    "    temp_df['id'] = '_'.join(filename.split(sep='_')[2:-2])\n",
    "    temp_df.index = columns\n",
    "    \n",
    "    li.append(temp_df)\n",
    "\n",
    "df_random = pd.DataFrame(li).reset_index(drop=True)"
   ]
  },
  {
   "cell_type": "code",
   "execution_count": null,
   "id": "92a1f4be",
   "metadata": {},
   "outputs": [],
   "source": [
    "df_random"
   ]
  },
  {
   "cell_type": "code",
   "execution_count": null,
   "id": "4f1e181d",
   "metadata": {},
   "outputs": [],
   "source": [
    "df_random.id.value_counts()"
   ]
  },
  {
   "cell_type": "code",
   "execution_count": null,
   "id": "67c5a604",
   "metadata": {},
   "outputs": [],
   "source": [
    "for pm in performance_measures:\n",
    "    df_random.loc[:, pm] = df_random[[f'{pm}{i}' for i in range(5)]].mean(axis=1)"
   ]
  },
  {
   "cell_type": "code",
   "execution_count": null,
   "id": "f0f7dde2",
   "metadata": {},
   "outputs": [],
   "source": [
    "df_random.groupby('id').mean()[[*performance_measures, 'time']]"
   ]
  },
  {
   "cell_type": "code",
   "execution_count": null,
   "id": "23925a9c",
   "metadata": {},
   "outputs": [],
   "source": [
    "df_random.groupby('id').mean()[[*performance_measures, 'time']].to_csv('data/table_random.csv')"
   ]
  },
  {
   "cell_type": "code",
   "execution_count": null,
   "id": "98ba7a8f",
   "metadata": {},
   "outputs": [],
   "source": []
  },
  {
   "cell_type": "markdown",
   "id": "54177fee",
   "metadata": {},
   "source": [
    "## DNN_G3"
   ]
  },
  {
   "cell_type": "code",
   "execution_count": null,
   "id": "b9155d02",
   "metadata": {},
   "outputs": [],
   "source": [
    "li = list()\n",
    "\n",
    "for filename in glob.glob('data/TLS_DNN_G3/*.csv'):\n",
    "    if int(filename.split(sep='_')[-1].replace('.csv', '')) >= 50:\n",
    "        continue\n",
    "    \n",
    "    \n",
    "    temp_df = pd.read_csv(filename, index_col=0)\n",
    "    temp_id = temp_df.id[0]\n",
    "    li.append(temp_df.drop([f'{temp_id}_{i}' for i in range(4)], axis=1).loc[0])\n",
    "\n",
    "df_dnn_g3 = pd.DataFrame(li).reset_index(drop=True)"
   ]
  },
  {
   "cell_type": "code",
   "execution_count": null,
   "id": "bac43e6d",
   "metadata": {},
   "outputs": [],
   "source": [
    "df_dnn_g3"
   ]
  },
  {
   "cell_type": "code",
   "execution_count": null,
   "id": "1945fb5b",
   "metadata": {},
   "outputs": [],
   "source": [
    "for pm in performance_measures:\n",
    "    df_dnn_g3[pm] = df_dnn_g3[[f'{pm}{i}' for i in range(5)]].mean(axis=1)"
   ]
  },
  {
   "cell_type": "code",
   "execution_count": null,
   "id": "3fa5e216",
   "metadata": {},
   "outputs": [],
   "source": [
    "df_dnn_g3.groupby('id').mean()[[*performance_measures, 'time']]"
   ]
  },
  {
   "cell_type": "code",
   "execution_count": null,
   "id": "6f9a47b3",
   "metadata": {},
   "outputs": [],
   "source": [
    "df_dnn_g3.groupby('id').mean()[[*performance_measures, 'time']].to_csv('data/table_DNN_G3.csv')"
   ]
  },
  {
   "cell_type": "code",
   "execution_count": null,
   "id": "9b8378ad",
   "metadata": {},
   "outputs": [],
   "source": []
  },
  {
   "cell_type": "markdown",
   "id": "286985d1",
   "metadata": {},
   "source": [
    "## DNN_G5"
   ]
  },
  {
   "cell_type": "code",
   "execution_count": null,
   "id": "f5a73ce7",
   "metadata": {},
   "outputs": [],
   "source": [
    "li = list()\n",
    "\n",
    "for filename in glob.glob('data/TLS_DNN_G5/*.csv'):\n",
    "    if int(filename.split(sep='_')[-1].replace('.csv', '')) >= 50:\n",
    "        continue\n",
    "    \n",
    "    \n",
    "    temp_df = pd.read_csv(filename, index_col=0)\n",
    "    temp_id = temp_df.id[0]\n",
    "    li.append(temp_df.drop([f'{temp_id}_{i}' for i in range(4)], axis=1).loc[0])\n",
    "\n",
    "df_dnn_g5 = pd.DataFrame(li).reset_index(drop=True)"
   ]
  },
  {
   "cell_type": "code",
   "execution_count": null,
   "id": "f44314ba",
   "metadata": {},
   "outputs": [],
   "source": [
    "df_dnn_g5"
   ]
  },
  {
   "cell_type": "code",
   "execution_count": null,
   "id": "e642e6ff",
   "metadata": {},
   "outputs": [],
   "source": [
    "for pm in performance_measures:\n",
    "    df_dnn_g5[pm] = df_dnn_g5[[f'{pm}{i}' for i in range(5)]].mean(axis=1)"
   ]
  },
  {
   "cell_type": "code",
   "execution_count": null,
   "id": "429f9f91",
   "metadata": {},
   "outputs": [],
   "source": [
    "df_dnn_g5.groupby('id').mean()[[*performance_measures, 'time']]"
   ]
  },
  {
   "cell_type": "code",
   "execution_count": null,
   "id": "86aa5db4",
   "metadata": {},
   "outputs": [],
   "source": [
    "df_dnn_g5.groupby('id').mean()[[*performance_measures, 'time']].to_csv('data/table_DNN_G5.csv')"
   ]
  },
  {
   "cell_type": "code",
   "execution_count": null,
   "id": "fea6e007",
   "metadata": {},
   "outputs": [],
   "source": []
  },
  {
   "cell_type": "markdown",
   "id": "90048093",
   "metadata": {},
   "source": [
    "## DNN_G7"
   ]
  },
  {
   "cell_type": "code",
   "execution_count": null,
   "id": "27e93446",
   "metadata": {},
   "outputs": [],
   "source": [
    "li = list()\n",
    "\n",
    "for filename in glob.glob('data/TLS_DNN_G7/*.csv'):\n",
    "    if int(filename.split(sep='_')[-1].replace('.csv', '')) >= 50:\n",
    "        continue\n",
    "    \n",
    "    \n",
    "    temp_df = pd.read_csv(filename, index_col=0)\n",
    "    temp_id = temp_df.id[0]\n",
    "    li.append(temp_df.drop([f'{temp_id}_{i}' for i in range(4)], axis=1).loc[0])\n",
    "\n",
    "df_dnn_g7 = pd.DataFrame(li).reset_index(drop=True)"
   ]
  },
  {
   "cell_type": "code",
   "execution_count": null,
   "id": "07fa29b3",
   "metadata": {},
   "outputs": [],
   "source": [
    "df_dnn_g7"
   ]
  },
  {
   "cell_type": "code",
   "execution_count": null,
   "id": "db917f27",
   "metadata": {},
   "outputs": [],
   "source": [
    "for pm in performance_measures:\n",
    "    df_dnn_g7[pm] = df_dnn_g7[[f'{pm}{i}' for i in range(5)]].mean(axis=1)"
   ]
  },
  {
   "cell_type": "code",
   "execution_count": null,
   "id": "a336b2a7",
   "metadata": {},
   "outputs": [],
   "source": [
    "df_dnn_g7.groupby('id').mean()[[*performance_measures, 'time']]"
   ]
  },
  {
   "cell_type": "code",
   "execution_count": null,
   "id": "f8250e67",
   "metadata": {},
   "outputs": [],
   "source": [
    "df_dnn_g7.groupby('id').mean()[[*performance_measures, 'time']].to_csv('data/table_DNN_G7.csv')"
   ]
  },
  {
   "cell_type": "code",
   "execution_count": null,
   "id": "3af8c092-ff86-4d0f-ab5d-bb68330483bf",
   "metadata": {},
   "outputs": [],
   "source": []
  },
  {
   "cell_type": "markdown",
   "id": "feafd7c7-6a5d-410d-a69e-ba54b0cc7aa5",
   "metadata": {},
   "source": [
    "# Average Waiting Time Comparison for Test Sample Intersections"
   ]
  },
  {
   "cell_type": "markdown",
   "id": "1a50d48e-b9e7-471f-8c93-86c7b3e33297",
   "metadata": {},
   "source": [
    "## Aggregated by ID"
   ]
  },
  {
   "cell_type": "code",
   "execution_count": null,
   "id": "2a26a13b-f445-43ea-aaa9-e6e739323d56",
   "metadata": {},
   "outputs": [],
   "source": [
    "sns.set(font_scale=1.5)"
   ]
  },
  {
   "cell_type": "code",
   "execution_count": null,
   "id": "621df3b9-9300-465d-a375-0d79a74b9f15",
   "metadata": {},
   "outputs": [],
   "source": [
    "df_random_agg = df_random.groupby('id').mean()[[*performance_measures, 'time']]\n",
    "df_tabu_agg = df_tabu.groupby('id').mean()[[*performance_measures, 'iteration_time']]\n",
    "df_ica_agg = df_ica.groupby('id').mean()[[*performance_measures, 'iteration_time']]\n",
    "df_dnn_g3_agg = df_dnn_g3.groupby('id').mean()[[*performance_measures, 'time']]\n",
    "df_dnn_g5_agg = df_dnn_g5.groupby('id').mean()[[*performance_measures, 'time']]\n",
    "df_dnn_g7_agg = df_dnn_g7.groupby('id').mean()[[*performance_measures, 'time']]"
   ]
  },
  {
   "cell_type": "code",
   "execution_count": null,
   "id": "f8240140-460c-43e5-95fe-37bb5ea43d70",
   "metadata": {},
   "outputs": [],
   "source": [
    "df_combined = pd.concat([df_random_agg['wait'], df_tabu_agg['wait'], df_ica_agg['wait'], df_dnn_g3_agg['wait'], df_dnn_g5_agg['wait'], df_dnn_g7_agg['wait']], axis=1)\n",
    "df_combined.columns = ['Random', 'TS', 'ICA+TS', 'DNN_G3', 'DNN_G5', 'DNN_G7']"
   ]
  },
  {
   "cell_type": "code",
   "execution_count": null,
   "id": "59f027d0-2267-4d8a-b828-47d634f13342",
   "metadata": {},
   "outputs": [],
   "source": [
    "# 데이터 melt (long-format)\n",
    "df_melted = df_combined.melt(var_name='Algorithm', value_name='WaitingTime')\n",
    "\n",
    "# Random과 나머지를 분리\n",
    "fig, (ax1, ax2) = plt.subplots(2, 1, figsize=(10, 6), sharex=True, gridspec_kw={'height_ratios': [1, 2]})\n",
    "\n",
    "# 위쪽 (Random만)\n",
    "sns.boxplot(data=df_melted[df_melted['Algorithm'] == 'Random'], x='Algorithm', y='WaitingTime', ax=ax1, color='grey')\n",
    "ax1.set_ylim(90, 140)\n",
    "ax1.spines['bottom'].set_visible(False)\n",
    "ax1.tick_params(labelbottom=False)\n",
    "ax1.set_ylabel('')\n",
    "\n",
    "# 아래쪽 (나머지 알고리즘들)\n",
    "sns.boxplot(data=df_melted[df_melted['Algorithm'] != 'Random'], x='Algorithm', y='WaitingTime', ax=ax2, color = 'grey')\n",
    "ax2.set_ylim(10, 40)\n",
    "ax2.spines['top'].set_visible(False)\n",
    "ax2.set_ylabel('')\n",
    "ax2.set_xlabel('')\n",
    "\n",
    "\n",
    "# 물결 표시\n",
    "d = .5  # how big to make the diagonal lines\n",
    "kwargs = dict(marker=[(-1, -d), (1, d)], markersize=10,\n",
    "              linestyle='none', color='k', mec='k', mew=1, clip_on=False)\n",
    "ax1.plot([0, 1], [0, 0], transform=ax1.transAxes, **kwargs)\n",
    "ax2.plot([0, 1], [1, 1], transform=ax2.transAxes, **kwargs)\n",
    "\n",
    "ax1.axhline(y=90, color='gray', linestyle='--')\n",
    "ax2.axhline(y=40, color='gray', linestyle='--')\n",
    "\n",
    "fig.text(0.04, 0.5, 'average waiting time (s)', va='center', rotation='vertical', fontsize=20)\n",
    "\n",
    "\n",
    "plt.subplots_adjust(hspace=0.05)\n",
    "plt.savefig('figures/wait_vs_algorithms_boxplot.png', bbox_inches='tight')\n",
    "plt.show()"
   ]
  },
  {
   "cell_type": "code",
   "execution_count": null,
   "id": "fc3d142f-4ee8-41c8-a8d0-114d056e4fec",
   "metadata": {},
   "outputs": [],
   "source": []
  },
  {
   "cell_type": "code",
   "execution_count": null,
   "id": "7d571c28-17d3-4796-9a6b-f55d74c9bc54",
   "metadata": {},
   "outputs": [],
   "source": []
  }
 ],
 "metadata": {
  "kernelspec": {
   "display_name": "Python38",
   "language": "python",
   "name": "python38"
  },
  "language_info": {
   "codemirror_mode": {
    "name": "ipython",
    "version": 3
   },
   "file_extension": ".py",
   "mimetype": "text/x-python",
   "name": "python",
   "nbconvert_exporter": "python",
   "pygments_lexer": "ipython3",
   "version": "3.8.3"
  }
 },
 "nbformat": 4,
 "nbformat_minor": 5
}
