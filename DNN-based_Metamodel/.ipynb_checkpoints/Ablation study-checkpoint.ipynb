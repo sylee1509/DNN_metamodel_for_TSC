{
 "cells": [
  {
   "cell_type": "markdown",
   "id": "2fb66d71-83d6-47ce-a8f6-b2641636fe28",
   "metadata": {},
   "source": [
    "# Setup"
   ]
  },
  {
   "cell_type": "code",
   "execution_count": null,
   "id": "305b0131",
   "metadata": {},
   "outputs": [],
   "source": [
    "import pandas as pd\n",
    "import numpy as np\n",
    "import time\n",
    "\n",
    "import warnings\n",
    "warnings.filterwarnings('ignore')"
   ]
  },
  {
   "cell_type": "code",
   "execution_count": null,
   "id": "9a9fd537",
   "metadata": {},
   "outputs": [],
   "source": [
    "from sklearn.model_selection import train_test_split\n",
    "import tensorflow as tf\n",
    "from tensorflow.keras.layers import *\n",
    "from sklearn.metrics import *\n",
    "import pickle"
   ]
  },
  {
   "cell_type": "code",
   "execution_count": null,
   "id": "e5a70057",
   "metadata": {},
   "outputs": [],
   "source": [
    "gpus = tf.config.experimental.list_physical_devices('GPU')\n",
    "if gpus:\n",
    "    try:\n",
    "        tf.config.experimental.set_memory_growth(gpus[0], True)\n",
    "    except RuntimeError as e:\n",
    "        print(e)"
   ]
  },
  {
   "cell_type": "code",
   "execution_count": null,
   "id": "015bcde6",
   "metadata": {},
   "outputs": [],
   "source": [
    "df = pd.read_csv(f'data/data_total.csv', index_col=0)"
   ]
  },
  {
   "cell_type": "code",
   "execution_count": null,
   "id": "feade057",
   "metadata": {},
   "outputs": [],
   "source": [
    "ycol = [\n",
    "    df.columns[df.columns.str.contains('wait')],\n",
    "    df.columns[df.columns.str.contains('timeloss')],\n",
    "    df.columns[df.columns.str.contains('travel')],\n",
    "    df.columns[df.columns.str.contains('speed')],\n",
    "    df.columns[df.columns.str.contains('stop')],\n",
    "]"
   ]
  },
  {
   "cell_type": "code",
   "execution_count": null,
   "id": "adc6ddc5",
   "metadata": {},
   "outputs": [],
   "source": [
    "y = [\n",
    "    df[c].mean(1) for c in ycol\n",
    "]"
   ]
  },
  {
   "cell_type": "code",
   "execution_count": null,
   "id": "07406a37",
   "metadata": {},
   "outputs": [],
   "source": [
    "p = pd.read_csv('preprocessed/preprocessed_p.csv', index_col=0)\n",
    "q = pd.read_csv('preprocessed/preprocessed_q.csv', index_col=0)\n",
    "var = pd.read_csv('preprocessed/preprocessed_var.csv', index_col=0)"
   ]
  },
  {
   "cell_type": "code",
   "execution_count": null,
   "id": "1d932972",
   "metadata": {
    "scrolled": true
   },
   "outputs": [],
   "source": [
    "p.columns"
   ]
  },
  {
   "cell_type": "code",
   "execution_count": null,
   "id": "705fb964",
   "metadata": {},
   "outputs": [],
   "source": [
    "q.columns"
   ]
  },
  {
   "cell_type": "code",
   "execution_count": null,
   "id": "73d561dc",
   "metadata": {},
   "outputs": [],
   "source": [
    "var.columns"
   ]
  },
  {
   "cell_type": "code",
   "execution_count": null,
   "id": "fca133eb",
   "metadata": {},
   "outputs": [],
   "source": []
  },
  {
   "cell_type": "code",
   "execution_count": null,
   "id": "0a255276",
   "metadata": {},
   "outputs": [],
   "source": [
    "strat = df['id']"
   ]
  },
  {
   "cell_type": "code",
   "execution_count": null,
   "id": "41251d26",
   "metadata": {},
   "outputs": [],
   "source": [
    "X = pd.concat([var, p, q], 1)\n",
    "X_wo_p = pd.concat([var, q], 1)\n",
    "X_wo_q = pd.concat([var, p], 1)\n",
    "X_wo_pq = pd.concat([var], 1)"
   ]
  },
  {
   "cell_type": "code",
   "execution_count": null,
   "id": "0d23365e",
   "metadata": {},
   "outputs": [],
   "source": [
    "y = np.stack(y, 1)"
   ]
  },
  {
   "cell_type": "code",
   "execution_count": null,
   "id": "04eb522c",
   "metadata": {},
   "outputs": [],
   "source": [
    "y[:,:3] /= 300\n",
    "y[:, 3] = (y[:, 3]-3)/6\n",
    "y[:, 4] /= 3"
   ]
  },
  {
   "cell_type": "code",
   "execution_count": null,
   "id": "97931860-a894-4013-a903-ad714b1242a7",
   "metadata": {},
   "outputs": [],
   "source": [
    "y1 = y[:,:1]"
   ]
  },
  {
   "cell_type": "markdown",
   "id": "0b38b81e-6363-4948-a8f2-d8cc9a536ff2",
   "metadata": {},
   "source": [
    "# Load models"
   ]
  },
  {
   "cell_type": "code",
   "execution_count": null,
   "id": "c0ee679d-a694-4810-8d31-b658006b94b1",
   "metadata": {},
   "outputs": [],
   "source": [
    "def get_MMoE_model(num_experts=3, num_tasks=5, emb_dim=64):\n",
    "    in_dim = X.shape[1]\n",
    "    i_ = Input((X.shape[1], ))\n",
    "    \n",
    "    experts = []\n",
    "    for _ in range(num_experts):\n",
    "        exp = build_layer(in_dim, (256, 128), emb_dim)\n",
    "        experts.append(exp(i_))\n",
    "        \n",
    "    expert_concat = tf.keras.layers.Lambda(lambda x: tf.stack(x, axis=1))(experts)\n",
    "    \n",
    "    mmoe_outs = []\n",
    "    for _ in range(num_tasks):\n",
    "        g_layer = build_layer(in_dim, (128, ), emb_dim)\n",
    "        g_in = g_layer(i_)\n",
    "        g_out = tf.keras.layers.Dense(num_experts, use_bias=False, activation='softmax')(g_in)\n",
    "        g_out = tf.keras.layers.Lambda(lambda x: tf.expand_dims(x, axis=-1))(g_out)\n",
    "        \n",
    "        g_mul_out = tf.keras.layers.Lambda(lambda x: tf.reduce_sum(x[0] * x[1], axis=1, keepdims=False))([expert_concat, g_out])\n",
    "        \n",
    "        mmoe_outs.append(g_mul_out)\n",
    "        \n",
    "    task_outs = []\n",
    "    for mmoe_out in mmoe_outs:\n",
    "        out_layer = build_layer(emb_dim, (64, ), 1)\n",
    "        out = out_layer(mmoe_out)\n",
    "        task_outs.append(out)\n",
    "        \n",
    "    task_outs = tf.concat(task_outs, 1)\n",
    "    return tf.keras.models.Model(i_, task_outs)\n",
    "\n",
    "\n",
    "def build_layer(in_dim, h_dim, out_dim):\n",
    "    i_ = Input((in_dim, ))\n",
    "    h = i_\n",
    "    for d in h_dim:\n",
    "       h = Dense(d, activation='swish')(h)\n",
    "    \n",
    "    o = Dense(out_dim)(h)\n",
    "    model = tf.keras.models.Model(i_, o)\n",
    "    return model"
   ]
  },
  {
   "cell_type": "code",
   "execution_count": null,
   "id": "92a32c85",
   "metadata": {
    "scrolled": true
   },
   "outputs": [],
   "source": [
    "poly_reg = pickle.load(open(f'models/model_poly_reg/model.pkl', \"rb\"))\n",
    "\n",
    "simple_MLP_y1_model = tf.keras.models.load_model(f'models/model_simple_MLP_y1')\n",
    "\n",
    "simple_MLP_y5_model = tf.keras.models.load_model(f'models/model_simple_MLP_y5')\n",
    "\n",
    "shared_bottom_model = tf.keras.models.load_model(f'models/model_shared_bottom')\n",
    "\n",
    "OMoE_model = tf.keras.models.load_model(f'models/model_OMoE')\n",
    "MMoE_model = tf.keras.models.load_model(f'models/model_MMoE_original')\n",
    "\n",
    "MMoE_wo_p_model = tf.keras.models.load_model(f'models/model_MMoE_wo_traffic_param')\n",
    "MMoE_wo_q_model = tf.keras.models.load_model(f'models/model_MMoE_wo_network_param')\n",
    "MMoE_wo_pq_model = tf.keras.models.load_model(f'models/model_MMoE_wo_both_param')"
   ]
  },
  {
   "cell_type": "code",
   "execution_count": null,
   "id": "164d9604",
   "metadata": {},
   "outputs": [],
   "source": [
    "models = {\n",
    "    'poly_reg': poly_reg,\n",
    "    'simple_MLP_y1_model': simple_MLP_y1_model,\n",
    "    'simple_MLP_y5_model': simple_MLP_y5_model,\n",
    "    'shared_bottom_model': shared_bottom_model,\n",
    "    'OMoE_model': OMoE_model,\n",
    "    'MMoE_model': MMoE_model,\n",
    "    'MMoE_wo_p_model': MMoE_wo_p_model,\n",
    "    'MMoE_wo_q_model': MMoE_wo_q_model,\n",
    "    'MMoE_wo_pq_model': MMoE_wo_pq_model\n",
    "}"
   ]
  },
  {
   "cell_type": "code",
   "execution_count": null,
   "id": "05dce9ef-a576-4c47-9e47-9b3e105a2403",
   "metadata": {},
   "outputs": [],
   "source": []
  },
  {
   "cell_type": "markdown",
   "id": "11b91df6-eec0-451c-a440-c40b50e84caf",
   "metadata": {},
   "source": [
    "# Predict test sets"
   ]
  },
  {
   "cell_type": "code",
   "execution_count": null,
   "id": "00fe54f0",
   "metadata": {},
   "outputs": [],
   "source": [
    "import csv\n",
    "\n",
    "with open('data/test_networks.csv', 'r', newline='') as myfile:\n",
    "     wr = csv.reader(myfile, quoting=csv.QUOTE_ALL)\n",
    "     test_data = list(wr)[0]"
   ]
  },
  {
   "cell_type": "code",
   "execution_count": null,
   "id": "83e44579-1798-4507-aac2-ca2a2525cff1",
   "metadata": {},
   "outputs": [],
   "source": [
    "from sklearn.preprocessing import PolynomialFeatures\n",
    "from sklearn.compose import ColumnTransformer"
   ]
  },
  {
   "cell_type": "code",
   "execution_count": null,
   "id": "9384c9a0",
   "metadata": {
    "scrolled": true
   },
   "outputs": [],
   "source": [
    "from tqdm import tqdm\n",
    "\n",
    "val_id = list(tqdm(test_data))"
   ]
  },
  {
   "cell_type": "code",
   "execution_count": null,
   "id": "96de1d7b-2af8-4f45-bb49-e1edfea4f70d",
   "metadata": {},
   "outputs": [],
   "source": [
    "tr_X = X[~strat.isin(val_id)]\n",
    "tr_X_wo_p = X_wo_p[~strat.isin(val_id)] \n",
    "tr_X_wo_q = X_wo_q[~strat.isin(val_id)] \n",
    "tr_X_wo_pq = X_wo_pq[~strat.isin(val_id)] \n",
    "tr_y = y[~strat.isin(val_id)]\n",
    "tr_y1 = y1[~strat.isin(val_id)]\n",
    "\n",
    "val_X = X[strat.isin(val_id)]\n",
    "val_X_wo_p = X_wo_p[strat.isin(val_id)]\n",
    "val_X_wo_q = X_wo_q[strat.isin(val_id)]\n",
    "val_X_wo_pq = X_wo_pq[strat.isin(val_id)]\n",
    "val_y = y[strat.isin(val_id)]\n",
    "val_y1 = y1[strat.isin(val_id)]"
   ]
  },
  {
   "cell_type": "code",
   "execution_count": null,
   "id": "5932326c-228e-4c78-8666-6cf024281ba4",
   "metadata": {},
   "outputs": [],
   "source": [
    "poly = ColumnTransformer(\n",
    "    transformers=[\n",
    "        ('transformer', PolynomialFeatures(degree=2, include_bias=False), ['p1', 'p2', 'p3', 'p4', 'total_len']),\n",
    "    ],\n",
    "    remainder='passthrough'\n",
    ")\n",
    "\n",
    "tr_X_poly = poly.fit_transform(tr_X)\n",
    "val_X_poly = poly.fit_transform(val_X)"
   ]
  },
  {
   "cell_type": "markdown",
   "id": "3d84a9cf-0707-4c9d-ae64-12ad49f4fdd0",
   "metadata": {},
   "source": [
    "## Inference on test set"
   ]
  },
  {
   "cell_type": "code",
   "execution_count": null,
   "id": "bae476f9-359d-4985-bb12-084aa1ec9454",
   "metadata": {
    "scrolled": true
   },
   "outputs": [],
   "source": [
    "prediction_results = []\n",
    "\n",
    "for model_name, model in models.items():\n",
    "    num_tasks = 1 if model_name in ['poly_reg', 'simple_MLP_y1_model'] else 5\n",
    "    \n",
    "    if model_name == 'MMoE_wo_p_model':\n",
    "        test_X = val_X_wo_p \n",
    "    elif model_name == 'MMoE_wo_q_model':\n",
    "        test_X = val_X_wo_q \n",
    "    elif model_name == 'MMoE_wo_pq_model':\n",
    "        test_X = val_X_wo_pq \n",
    "    elif model_name == 'poly_reg':\n",
    "        test_X = val_X_poly\n",
    "    else:\n",
    "        test_X = val_X\n",
    "\n",
    "    test_y = val_y1 if model_name in ['poly_reg', 'simple_MLP_y1_model'] else val_y\n",
    "    \n",
    "    pred = model.predict(test_X)\n",
    "\n",
    "    trues = test_y\n",
    "    \n",
    "    # score writer\n",
    "    tmp_scr = [model_name]\n",
    "    tmp_scr.append((np.abs(pred - trues) / trues).mean() * 100)\n",
    "    \n",
    "    for i in range(num_tasks):\n",
    "        s_ = ((np.abs(pred[:,i] - trues[:,i])*300) / (trues[:,i]*300)).mean() * 100\n",
    "        tmp_scr.append(s_)\n",
    "\n",
    "    prediction_results.append(tmp_scr)"
   ]
  },
  {
   "cell_type": "code",
   "execution_count": null,
   "id": "36dcae2c-4d10-477c-bb70-62e1c7a9e700",
   "metadata": {},
   "outputs": [],
   "source": [
    "df_prediction = pd.DataFrame(prediction_results, columns = ['model', 'total', 'wait', 'timeloss', 'travel', 'speed', 'stop'])\n",
    "df_prediction"
   ]
  },
  {
   "cell_type": "markdown",
   "id": "23902b1b-c77f-49e9-ac29-fa72ef0cc0f6",
   "metadata": {},
   "source": [
    "# Inference on train set"
   ]
  },
  {
   "cell_type": "code",
   "execution_count": null,
   "id": "fd04022b-a302-4f74-b033-3759954bdd87",
   "metadata": {},
   "outputs": [],
   "source": [
    "prediction_results = []\n",
    "\n",
    "for model_name, model in models.items():\n",
    "    num_tasks = 1 if model_name in ['poly_reg', 'simple_MLP_y1_model'] else 5\n",
    "    \n",
    "    if model_name == 'MMoE_wo_p_model':\n",
    "        test_X = tr_X_wo_p \n",
    "    elif model_name == 'MMoE_wo_q_model':\n",
    "        test_X = tr_X_wo_q \n",
    "    elif model_name == 'MMoE_wo_pq_model':\n",
    "        test_X = tr_X_wo_pq \n",
    "    elif model_name == 'poly_reg':\n",
    "        test_X = tr_X_poly\n",
    "    else:\n",
    "        test_X = tr_X\n",
    "\n",
    "    test_y = tr_y1 if model_name in ['poly_reg', 'simple_MLP_y1_model'] else tr_y\n",
    "    \n",
    "    pred = model.predict(test_X)\n",
    "\n",
    "    trues = test_y\n",
    "    \n",
    "    # score writer\n",
    "    tmp_scr = [model_name]\n",
    "    tmp_scr.append((np.abs(pred - trues) / trues).mean() * 100)\n",
    "    \n",
    "    for i in range(num_tasks):\n",
    "        s_ = ((np.abs(pred[:,i] - trues[:,i])*300) / (trues[:,i]*300)).mean() * 100\n",
    "        tmp_scr.append(s_)\n",
    "\n",
    "    prediction_results.append(tmp_scr)"
   ]
  },
  {
   "cell_type": "code",
   "execution_count": null,
   "id": "8925fc54-e4f5-4a2f-87d9-cdad49ae2a9c",
   "metadata": {},
   "outputs": [],
   "source": [
    "df_prediction_train = pd.DataFrame(prediction_results, columns = ['model', 'total', 'wait', 'timeloss', 'travel', 'speed', 'stop'])\n",
    "df_prediction_train"
   ]
  },
  {
   "cell_type": "code",
   "execution_count": null,
   "id": "548f4ac5-6276-4a6f-aeb7-5364202fbaee",
   "metadata": {},
   "outputs": [],
   "source": []
  }
 ],
 "metadata": {
  "kernelspec": {
   "display_name": "Python38",
   "language": "python",
   "name": "python38"
  },
  "language_info": {
   "codemirror_mode": {
    "name": "ipython",
    "version": 3
   },
   "file_extension": ".py",
   "mimetype": "text/x-python",
   "name": "python",
   "nbconvert_exporter": "python",
   "pygments_lexer": "ipython3",
   "version": "3.8.3"
  }
 },
 "nbformat": 4,
 "nbformat_minor": 5
}
