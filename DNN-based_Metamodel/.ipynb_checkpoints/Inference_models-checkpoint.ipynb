{
 "cells": [
  {
   "cell_type": "markdown",
   "id": "2fb66d71-83d6-47ce-a8f6-b2641636fe28",
   "metadata": {},
   "source": [
    "# Setup"
   ]
  },
  {
   "cell_type": "code",
   "execution_count": 1,
   "id": "305b0131",
   "metadata": {},
   "outputs": [],
   "source": [
    "import pandas as pd\n",
    "import numpy as np\n",
    "import time\n",
    "\n",
    "import warnings\n",
    "warnings.filterwarnings('ignore')"
   ]
  },
  {
   "cell_type": "code",
   "execution_count": 2,
   "id": "9a9fd537",
   "metadata": {},
   "outputs": [],
   "source": [
    "from sklearn.model_selection import train_test_split\n",
    "import tensorflow as tf\n",
    "from tensorflow.keras.layers import *\n",
    "from sklearn.metrics import *\n",
    "import pickle"
   ]
  },
  {
   "cell_type": "code",
   "execution_count": 3,
   "id": "e5a70057",
   "metadata": {},
   "outputs": [],
   "source": [
    "gpus = tf.config.experimental.list_physical_devices('GPU')\n",
    "if gpus:\n",
    "    try:\n",
    "        tf.config.experimental.set_memory_growth(gpus[0], True)\n",
    "    except RuntimeError as e:\n",
    "        print(e)"
   ]
  },
  {
   "cell_type": "code",
   "execution_count": 4,
   "id": "015bcde6",
   "metadata": {},
   "outputs": [],
   "source": [
    "df = pd.read_csv(f'data/data_total.csv', index_col=0)"
   ]
  },
  {
   "cell_type": "code",
   "execution_count": 5,
   "id": "feade057",
   "metadata": {},
   "outputs": [],
   "source": [
    "ycol = [\n",
    "    df.columns[df.columns.str.contains('wait')],\n",
    "    df.columns[df.columns.str.contains('timeloss')],\n",
    "    df.columns[df.columns.str.contains('travel')],\n",
    "    df.columns[df.columns.str.contains('speed')],\n",
    "    df.columns[df.columns.str.contains('stop')],\n",
    "]"
   ]
  },
  {
   "cell_type": "code",
   "execution_count": 6,
   "id": "adc6ddc5",
   "metadata": {},
   "outputs": [],
   "source": [
    "y = [\n",
    "    df[c].mean(1) for c in ycol\n",
    "]"
   ]
  },
  {
   "cell_type": "code",
   "execution_count": 7,
   "id": "07406a37",
   "metadata": {},
   "outputs": [],
   "source": [
    "p = pd.read_csv('DNN_model/preprocessed_p.csv', index_col=0)\n",
    "q = pd.read_csv('DNN_model/preprocessed_q.csv', index_col=0)\n",
    "var = pd.read_csv('DNN_model/preprocessed_var.csv', index_col=0)"
   ]
  },
  {
   "cell_type": "code",
   "execution_count": 8,
   "id": "1d932972",
   "metadata": {
    "scrolled": true
   },
   "outputs": [
    {
     "data": {
      "text/plain": [
       "Index(['1_2', '1_3', '1_4', '2_1', '2_3', '2_4', '3_1', '3_2', '3_4', '4_1',\n",
       "       '4_2', '4_3', '1_v', '2_v', '3_v', '4_v'],\n",
       "      dtype='object')"
      ]
     },
     "execution_count": 8,
     "metadata": {},
     "output_type": "execute_result"
    }
   ],
   "source": [
    "p.columns"
   ]
  },
  {
   "cell_type": "code",
   "execution_count": 9,
   "id": "705fb964",
   "metadata": {},
   "outputs": [
    {
     "data": {
      "text/plain": [
       "Index(['1', '1l', '1r', '1s', '2', '2l', '2r', '2s', '3', '3l',\n",
       "       ...\n",
       "       '102', '103', '104', '105', '106', '107', '108', '109', '110', '111'],\n",
       "      dtype='object', length=128)"
      ]
     },
     "execution_count": 9,
     "metadata": {},
     "output_type": "execute_result"
    }
   ],
   "source": [
    "q.columns"
   ]
  },
  {
   "cell_type": "code",
   "execution_count": 10,
   "id": "73d561dc",
   "metadata": {},
   "outputs": [
    {
     "data": {
      "text/plain": [
       "Index(['p1', 'p2', 'p3', 'p4', 'total_len'], dtype='object')"
      ]
     },
     "execution_count": 10,
     "metadata": {},
     "output_type": "execute_result"
    }
   ],
   "source": [
    "var.columns"
   ]
  },
  {
   "cell_type": "code",
   "execution_count": null,
   "id": "fca133eb",
   "metadata": {},
   "outputs": [],
   "source": []
  },
  {
   "cell_type": "code",
   "execution_count": 11,
   "id": "0a255276",
   "metadata": {},
   "outputs": [],
   "source": [
    "strat = df['id']"
   ]
  },
  {
   "cell_type": "code",
   "execution_count": 12,
   "id": "41251d26",
   "metadata": {},
   "outputs": [],
   "source": [
    "X = pd.concat([var, p, q], 1)\n",
    "X_wo_q = pd.concat([var, p], 1)"
   ]
  },
  {
   "cell_type": "code",
   "execution_count": 13,
   "id": "0d23365e",
   "metadata": {},
   "outputs": [],
   "source": [
    "y = np.stack(y, 1)"
   ]
  },
  {
   "cell_type": "code",
   "execution_count": 14,
   "id": "04eb522c",
   "metadata": {},
   "outputs": [],
   "source": [
    "y[:,:3] /= 300\n",
    "y[:, 3] = (y[:, 3]-3)/6\n",
    "y[:, 4] /= 3"
   ]
  },
  {
   "cell_type": "code",
   "execution_count": 15,
   "id": "97931860-a894-4013-a903-ad714b1242a7",
   "metadata": {},
   "outputs": [],
   "source": [
    "y1 = y[:,:1]"
   ]
  },
  {
   "cell_type": "markdown",
   "id": "0b38b81e-6363-4948-a8f2-d8cc9a536ff2",
   "metadata": {},
   "source": [
    "# Load models"
   ]
  },
  {
   "cell_type": "code",
   "execution_count": 33,
   "id": "c0ee679d-a694-4810-8d31-b658006b94b1",
   "metadata": {},
   "outputs": [],
   "source": [
    "def get_MMoE_model(num_experts=3, num_tasks=5, emb_dim=64):\n",
    "    in_dim = X.shape[1]\n",
    "    i_ = Input((X.shape[1], ))\n",
    "    \n",
    "    experts = []\n",
    "    for _ in range(num_experts):\n",
    "        exp = build_layer(in_dim, (256, 128), emb_dim)\n",
    "        experts.append(exp(i_))\n",
    "        \n",
    "    expert_concat = tf.keras.layers.Lambda(lambda x: tf.stack(x, axis=1))(experts)\n",
    "    \n",
    "    mmoe_outs = []\n",
    "    for _ in range(num_tasks):\n",
    "        g_layer = build_layer(in_dim, (128, ), emb_dim)\n",
    "        g_in = g_layer(i_)\n",
    "        g_out = tf.keras.layers.Dense(num_experts, use_bias=False, activation='softmax')(g_in)\n",
    "        g_out = tf.keras.layers.Lambda(lambda x: tf.expand_dims(x, axis=-1))(g_out)\n",
    "        \n",
    "        g_mul_out = tf.keras.layers.Lambda(lambda x: tf.reduce_sum(x[0] * x[1], axis=1, keepdims=False))([expert_concat, g_out])\n",
    "        \n",
    "        mmoe_outs.append(g_mul_out)\n",
    "        \n",
    "    task_outs = []\n",
    "    for mmoe_out in mmoe_outs:\n",
    "        out_layer = build_layer(emb_dim, (64, ), 1)\n",
    "        out = out_layer(mmoe_out)\n",
    "        task_outs.append(out)\n",
    "        \n",
    "    task_outs = tf.concat(task_outs, 1)\n",
    "    return tf.keras.models.Model(i_, task_outs)\n",
    "\n",
    "\n",
    "def build_layer(in_dim, h_dim, out_dim):\n",
    "    i_ = Input((in_dim, ))\n",
    "    h = i_\n",
    "    for d in h_dim:\n",
    "       h = Dense(d, activation='swish')(h)\n",
    "    \n",
    "    o = Dense(out_dim)(h)\n",
    "    model = tf.keras.models.Model(i_, o)\n",
    "    return model"
   ]
  },
  {
   "cell_type": "code",
   "execution_count": 62,
   "id": "92a32c85",
   "metadata": {
    "scrolled": true
   },
   "outputs": [],
   "source": [
    "poly_reg = pickle.load(open('tensormodel_poly_reg/model.pkl', \"rb\"))\n",
    "\n",
    "simple_MLP_y1_model = tf.keras.models.load_model('model_simple_MLP_y1')\n",
    "\n",
    "simple_MLP_y5_model = tf.keras.models.load_model('model_simple_MLP_y5')\n",
    "\n",
    "shared_bottom_model = tf.keras.models.load_model('model_shared_bottom')\n",
    "\n",
    "MMoE_model = tf.keras.models.load_model('model_MMoE_original')\n",
    "# MMoE_model = tf.keras.models.load_model('DNN_model')\n",
    "\n",
    "MMoE_E1_model = get_MMoE_model(1, 5, 64)\n",
    "# MMoE_E1_model.load_weights('model_MMoE_E1/variables/variables')\n",
    "MMoE_E1_model.load_weights('MMoE_diff_experts/model_MMoE_E1/variables/variables')\n",
    "\n",
    "# MMoE_E2_model = tf.keras.models.load_model('model_MMoE_E2')\n",
    "MMoE_E2_model = tf.keras.models.load_model('MMoE_diff_experts/model_MMoE_E2')\n",
    "MMoE_E4_model = tf.keras.models.load_model('model_MMoE_E4')\n",
    "MMoE_E5_model = tf.keras.models.load_model('model_MMoE_E5')\n",
    "\n",
    "MMoE_wo_q_model = tf.keras.models.load_model('model_MMoE_wo_network_param')"
   ]
  },
  {
   "cell_type": "code",
   "execution_count": 63,
   "id": "164d9604",
   "metadata": {},
   "outputs": [],
   "source": [
    "models = {\n",
    "    'poly_reg': poly_reg,\n",
    "    'simple_MLP_y1_model': simple_MLP_y1_model,\n",
    "    'simple_MLP_y5_model': simple_MLP_y5_model,\n",
    "    'shared_bottom_model': shared_bottom_model,\n",
    "    'MMoE_model': MMoE_model,\n",
    "    'MMoE_E1_model': MMoE_E1_model,\n",
    "    'MMoE_E2_model': MMoE_E2_model,\n",
    "    'MMoE_E4_model': MMoE_E4_model,\n",
    "    'MMoE_E5_model': MMoE_E5_model,\n",
    "    'MMoE_wo_q_model': MMoE_wo_q_model\n",
    "}"
   ]
  },
  {
   "cell_type": "code",
   "execution_count": null,
   "id": "05dce9ef-a576-4c47-9e47-9b3e105a2403",
   "metadata": {},
   "outputs": [],
   "source": []
  },
  {
   "cell_type": "markdown",
   "id": "11b91df6-eec0-451c-a440-c40b50e84caf",
   "metadata": {},
   "source": [
    "# Predict test sets"
   ]
  },
  {
   "cell_type": "code",
   "execution_count": 40,
   "id": "00fe54f0",
   "metadata": {},
   "outputs": [],
   "source": [
    "import csv\n",
    "\n",
    "with open('data/test_networks.csv', 'r', newline='') as myfile:\n",
    "     wr = csv.reader(myfile, quoting=csv.QUOTE_ALL)\n",
    "     test_data = list(wr)[0]"
   ]
  },
  {
   "cell_type": "code",
   "execution_count": 41,
   "id": "83e44579-1798-4507-aac2-ca2a2525cff1",
   "metadata": {},
   "outputs": [],
   "source": [
    "from sklearn.preprocessing import PolynomialFeatures\n",
    "from sklearn.compose import ColumnTransformer"
   ]
  },
  {
   "cell_type": "code",
   "execution_count": 42,
   "id": "9384c9a0",
   "metadata": {
    "scrolled": true
   },
   "outputs": [
    {
     "name": "stderr",
     "output_type": "stream",
     "text": [
      "100%|██████████████████████████████████████████████████████████████████████████████████████████| 25/25 [00:00<?, ?it/s]\n"
     ]
    }
   ],
   "source": [
    "from tqdm import tqdm\n",
    "\n",
    "val_id = list(tqdm(test_data))"
   ]
  },
  {
   "cell_type": "code",
   "execution_count": 43,
   "id": "96de1d7b-2af8-4f45-bb49-e1edfea4f70d",
   "metadata": {},
   "outputs": [],
   "source": [
    "tr_X = X[~strat.isin(val_id)]\n",
    "tr_X_wo_q = X_wo_q[~strat.isin(val_id)] \n",
    "tr_y = y[~strat.isin(val_id)]\n",
    "tr_y1 = y1[~strat.isin(val_id)]\n",
    "\n",
    "val_X = X[strat.isin(val_id)]\n",
    "val_X_wo_q = X_wo_q[strat.isin(val_id)]\n",
    "val_y = y[strat.isin(val_id)]\n",
    "val_y1 = y1[strat.isin(val_id)]"
   ]
  },
  {
   "cell_type": "code",
   "execution_count": 44,
   "id": "5932326c-228e-4c78-8666-6cf024281ba4",
   "metadata": {},
   "outputs": [],
   "source": [
    "poly = ColumnTransformer(\n",
    "    transformers=[\n",
    "        ('transformer', PolynomialFeatures(degree=2, include_bias=False), ['p1', 'p2', 'p3', 'p4', 'total_len']),\n",
    "    ],\n",
    "    remainder='passthrough'\n",
    ")\n",
    "\n",
    "tr_X_poly = poly.fit_transform(tr_X)\n",
    "val_X_poly = poly.fit_transform(val_X)"
   ]
  },
  {
   "cell_type": "markdown",
   "id": "3d84a9cf-0707-4c9d-ae64-12ad49f4fdd0",
   "metadata": {},
   "source": [
    "## Inference on test set"
   ]
  },
  {
   "cell_type": "code",
   "execution_count": 64,
   "id": "bae476f9-359d-4985-bb12-084aa1ec9454",
   "metadata": {
    "scrolled": true
   },
   "outputs": [
    {
     "name": "stdout",
     "output_type": "stream",
     "text": [
      "3907/3907 [==============================] - 3s 830us/step\n",
      "3907/3907 [==============================] - 3s 793us/step\n",
      "3907/3907 [==============================] - 4s 973us/step\n",
      "3907/3907 [==============================] - 7s 2ms/step\n",
      "3907/3907 [==============================] - 4s 1ms/step\n",
      "3907/3907 [==============================] - 6s 2ms/step\n",
      "3907/3907 [==============================] - 8s 2ms/step\n",
      "3907/3907 [==============================] - 9s 2ms/step\n",
      "3907/3907 [==============================] - 7s 2ms/step\n"
     ]
    }
   ],
   "source": [
    "prediction_results = []\n",
    "\n",
    "for model_name, model in models.items():\n",
    "    num_tasks = 1 if model_name in ['poly_reg', 'simple_MLP_y1_model'] else 5\n",
    "    \n",
    "    if model_name == 'MMoE_wo_q_model':\n",
    "        test_X = val_X_wo_q \n",
    "    elif model_name == 'poly_reg':\n",
    "        test_X = val_X_poly\n",
    "    else:\n",
    "        test_X = val_X\n",
    "\n",
    "    test_y = val_y1 if model_name in ['poly_reg', 'simple_MLP_y1_model'] else val_y\n",
    "    \n",
    "    pred = model.predict(test_X)\n",
    "\n",
    "    trues = test_y\n",
    "    \n",
    "    # score writer\n",
    "    tmp_scr = [model_name]\n",
    "    tmp_scr.append((np.abs(pred - trues) / trues).mean() * 100)\n",
    "    \n",
    "    for i in range(num_tasks):\n",
    "        s_ = ((np.abs(pred[:,i] - trues[:,i])*300) / (trues[:,i]*300)).mean() * 100\n",
    "        tmp_scr.append(s_)\n",
    "\n",
    "    prediction_results.append(tmp_scr)"
   ]
  },
  {
   "cell_type": "code",
   "execution_count": 65,
   "id": "695ef528-f4ab-4f8a-80de-257d0da1825b",
   "metadata": {},
   "outputs": [
    {
     "data": {
      "text/html": [
       "<div>\n",
       "<style scoped>\n",
       "    .dataframe tbody tr th:only-of-type {\n",
       "        vertical-align: middle;\n",
       "    }\n",
       "\n",
       "    .dataframe tbody tr th {\n",
       "        vertical-align: top;\n",
       "    }\n",
       "\n",
       "    .dataframe thead th {\n",
       "        text-align: right;\n",
       "    }\n",
       "</style>\n",
       "<table border=\"1\" class=\"dataframe\">\n",
       "  <thead>\n",
       "    <tr style=\"text-align: right;\">\n",
       "      <th></th>\n",
       "      <th>model</th>\n",
       "      <th>total</th>\n",
       "      <th>wait</th>\n",
       "      <th>timeloss</th>\n",
       "      <th>travel</th>\n",
       "      <th>speed</th>\n",
       "      <th>stop</th>\n",
       "    </tr>\n",
       "  </thead>\n",
       "  <tbody>\n",
       "    <tr>\n",
       "      <th>0</th>\n",
       "      <td>poly_reg</td>\n",
       "      <td>29.013172</td>\n",
       "      <td>29.013172</td>\n",
       "      <td>NaN</td>\n",
       "      <td>NaN</td>\n",
       "      <td>NaN</td>\n",
       "      <td>NaN</td>\n",
       "    </tr>\n",
       "    <tr>\n",
       "      <th>1</th>\n",
       "      <td>simple_MLP_y1_model</td>\n",
       "      <td>1.930731</td>\n",
       "      <td>1.930731</td>\n",
       "      <td>NaN</td>\n",
       "      <td>NaN</td>\n",
       "      <td>NaN</td>\n",
       "      <td>NaN</td>\n",
       "    </tr>\n",
       "    <tr>\n",
       "      <th>2</th>\n",
       "      <td>simple_MLP_y5_model</td>\n",
       "      <td>1.480269</td>\n",
       "      <td>1.811380</td>\n",
       "      <td>1.700970</td>\n",
       "      <td>1.173701</td>\n",
       "      <td>1.312895</td>\n",
       "      <td>1.402397</td>\n",
       "    </tr>\n",
       "    <tr>\n",
       "      <th>3</th>\n",
       "      <td>shared_bottom_model</td>\n",
       "      <td>1.269089</td>\n",
       "      <td>1.551536</td>\n",
       "      <td>1.469694</td>\n",
       "      <td>1.000192</td>\n",
       "      <td>1.098734</td>\n",
       "      <td>1.225288</td>\n",
       "    </tr>\n",
       "    <tr>\n",
       "      <th>4</th>\n",
       "      <td>MMoE_model</td>\n",
       "      <td>1.235882</td>\n",
       "      <td>1.534485</td>\n",
       "      <td>1.447745</td>\n",
       "      <td>0.982631</td>\n",
       "      <td>1.032828</td>\n",
       "      <td>1.181721</td>\n",
       "    </tr>\n",
       "    <tr>\n",
       "      <th>5</th>\n",
       "      <td>MMoE_E1_model</td>\n",
       "      <td>1.314645</td>\n",
       "      <td>1.631463</td>\n",
       "      <td>1.532922</td>\n",
       "      <td>1.044540</td>\n",
       "      <td>1.099197</td>\n",
       "      <td>1.265105</td>\n",
       "    </tr>\n",
       "    <tr>\n",
       "      <th>6</th>\n",
       "      <td>MMoE_E2_model</td>\n",
       "      <td>1.122080</td>\n",
       "      <td>1.365297</td>\n",
       "      <td>1.297895</td>\n",
       "      <td>0.874178</td>\n",
       "      <td>0.994290</td>\n",
       "      <td>1.078738</td>\n",
       "    </tr>\n",
       "    <tr>\n",
       "      <th>7</th>\n",
       "      <td>MMoE_E4_model</td>\n",
       "      <td>1.070967</td>\n",
       "      <td>1.311724</td>\n",
       "      <td>1.245751</td>\n",
       "      <td>0.846309</td>\n",
       "      <td>0.919259</td>\n",
       "      <td>1.031790</td>\n",
       "    </tr>\n",
       "    <tr>\n",
       "      <th>8</th>\n",
       "      <td>MMoE_E5_model</td>\n",
       "      <td>1.072247</td>\n",
       "      <td>1.317126</td>\n",
       "      <td>1.234614</td>\n",
       "      <td>0.843150</td>\n",
       "      <td>0.933097</td>\n",
       "      <td>1.033247</td>\n",
       "    </tr>\n",
       "    <tr>\n",
       "      <th>9</th>\n",
       "      <td>MMoE_wo_q_model</td>\n",
       "      <td>9.082378</td>\n",
       "      <td>12.334106</td>\n",
       "      <td>11.651469</td>\n",
       "      <td>7.915936</td>\n",
       "      <td>5.326829</td>\n",
       "      <td>8.183550</td>\n",
       "    </tr>\n",
       "  </tbody>\n",
       "</table>\n",
       "</div>"
      ],
      "text/plain": [
       "                 model      total       wait   timeloss    travel     speed  \\\n",
       "0             poly_reg  29.013172  29.013172        NaN       NaN       NaN   \n",
       "1  simple_MLP_y1_model   1.930731   1.930731        NaN       NaN       NaN   \n",
       "2  simple_MLP_y5_model   1.480269   1.811380   1.700970  1.173701  1.312895   \n",
       "3  shared_bottom_model   1.269089   1.551536   1.469694  1.000192  1.098734   \n",
       "4           MMoE_model   1.235882   1.534485   1.447745  0.982631  1.032828   \n",
       "5        MMoE_E1_model   1.314645   1.631463   1.532922  1.044540  1.099197   \n",
       "6        MMoE_E2_model   1.122080   1.365297   1.297895  0.874178  0.994290   \n",
       "7        MMoE_E4_model   1.070967   1.311724   1.245751  0.846309  0.919259   \n",
       "8        MMoE_E5_model   1.072247   1.317126   1.234614  0.843150  0.933097   \n",
       "9      MMoE_wo_q_model   9.082378  12.334106  11.651469  7.915936  5.326829   \n",
       "\n",
       "       stop  \n",
       "0       NaN  \n",
       "1       NaN  \n",
       "2  1.402397  \n",
       "3  1.225288  \n",
       "4  1.181721  \n",
       "5  1.265105  \n",
       "6  1.078738  \n",
       "7  1.031790  \n",
       "8  1.033247  \n",
       "9  8.183550  "
      ]
     },
     "execution_count": 65,
     "metadata": {},
     "output_type": "execute_result"
    }
   ],
   "source": [
    "df_prediction = pd.DataFrame(prediction_results, columns = ['model', 'total', 'wait', 'timeloss', 'travel', 'speed', 'stop'])\n",
    "df_prediction"
   ]
  },
  {
   "cell_type": "code",
   "execution_count": 46,
   "id": "08fa84d7-6f37-4890-b2fc-9b77a24dd8bc",
   "metadata": {},
   "outputs": [
    {
     "data": {
      "text/html": [
       "<div>\n",
       "<style scoped>\n",
       "    .dataframe tbody tr th:only-of-type {\n",
       "        vertical-align: middle;\n",
       "    }\n",
       "\n",
       "    .dataframe tbody tr th {\n",
       "        vertical-align: top;\n",
       "    }\n",
       "\n",
       "    .dataframe thead th {\n",
       "        text-align: right;\n",
       "    }\n",
       "</style>\n",
       "<table border=\"1\" class=\"dataframe\">\n",
       "  <thead>\n",
       "    <tr style=\"text-align: right;\">\n",
       "      <th></th>\n",
       "      <th>model</th>\n",
       "      <th>total</th>\n",
       "      <th>wait</th>\n",
       "      <th>timeloss</th>\n",
       "      <th>travel</th>\n",
       "      <th>speed</th>\n",
       "      <th>stop</th>\n",
       "    </tr>\n",
       "  </thead>\n",
       "  <tbody>\n",
       "    <tr>\n",
       "      <th>0</th>\n",
       "      <td>poly_reg</td>\n",
       "      <td>29.013172</td>\n",
       "      <td>29.013172</td>\n",
       "      <td>NaN</td>\n",
       "      <td>NaN</td>\n",
       "      <td>NaN</td>\n",
       "      <td>NaN</td>\n",
       "    </tr>\n",
       "    <tr>\n",
       "      <th>1</th>\n",
       "      <td>simple_MLP_y1_model</td>\n",
       "      <td>1.930731</td>\n",
       "      <td>1.930731</td>\n",
       "      <td>NaN</td>\n",
       "      <td>NaN</td>\n",
       "      <td>NaN</td>\n",
       "      <td>NaN</td>\n",
       "    </tr>\n",
       "    <tr>\n",
       "      <th>2</th>\n",
       "      <td>simple_MLP_y5_model</td>\n",
       "      <td>1.480269</td>\n",
       "      <td>1.811380</td>\n",
       "      <td>1.700970</td>\n",
       "      <td>1.173701</td>\n",
       "      <td>1.312895</td>\n",
       "      <td>1.402397</td>\n",
       "    </tr>\n",
       "    <tr>\n",
       "      <th>3</th>\n",
       "      <td>shared_bottom_model</td>\n",
       "      <td>1.269089</td>\n",
       "      <td>1.551536</td>\n",
       "      <td>1.469694</td>\n",
       "      <td>1.000192</td>\n",
       "      <td>1.098734</td>\n",
       "      <td>1.225288</td>\n",
       "    </tr>\n",
       "    <tr>\n",
       "      <th>4</th>\n",
       "      <td>MMoE_model</td>\n",
       "      <td>1.163429</td>\n",
       "      <td>1.441481</td>\n",
       "      <td>1.350437</td>\n",
       "      <td>0.923890</td>\n",
       "      <td>0.993016</td>\n",
       "      <td>1.108323</td>\n",
       "    </tr>\n",
       "    <tr>\n",
       "      <th>5</th>\n",
       "      <td>MMoE_E1_model</td>\n",
       "      <td>1.332899</td>\n",
       "      <td>1.641467</td>\n",
       "      <td>1.538845</td>\n",
       "      <td>1.071534</td>\n",
       "      <td>1.134249</td>\n",
       "      <td>1.278400</td>\n",
       "    </tr>\n",
       "    <tr>\n",
       "      <th>6</th>\n",
       "      <td>MMoE_E2_model</td>\n",
       "      <td>1.125488</td>\n",
       "      <td>1.370696</td>\n",
       "      <td>1.296642</td>\n",
       "      <td>0.884169</td>\n",
       "      <td>0.975938</td>\n",
       "      <td>1.099993</td>\n",
       "    </tr>\n",
       "    <tr>\n",
       "      <th>7</th>\n",
       "      <td>MMoE_E4_model</td>\n",
       "      <td>1.013417</td>\n",
       "      <td>1.230831</td>\n",
       "      <td>1.168192</td>\n",
       "      <td>0.790519</td>\n",
       "      <td>0.884758</td>\n",
       "      <td>0.992785</td>\n",
       "    </tr>\n",
       "    <tr>\n",
       "      <th>8</th>\n",
       "      <td>MMoE_E5_model</td>\n",
       "      <td>1.072247</td>\n",
       "      <td>1.317126</td>\n",
       "      <td>1.234614</td>\n",
       "      <td>0.843150</td>\n",
       "      <td>0.933097</td>\n",
       "      <td>1.033247</td>\n",
       "    </tr>\n",
       "    <tr>\n",
       "      <th>9</th>\n",
       "      <td>MMoE_wo_q_model</td>\n",
       "      <td>9.082378</td>\n",
       "      <td>12.334106</td>\n",
       "      <td>11.651469</td>\n",
       "      <td>7.915936</td>\n",
       "      <td>5.326829</td>\n",
       "      <td>8.183550</td>\n",
       "    </tr>\n",
       "  </tbody>\n",
       "</table>\n",
       "</div>"
      ],
      "text/plain": [
       "                 model      total       wait   timeloss    travel     speed  \\\n",
       "0             poly_reg  29.013172  29.013172        NaN       NaN       NaN   \n",
       "1  simple_MLP_y1_model   1.930731   1.930731        NaN       NaN       NaN   \n",
       "2  simple_MLP_y5_model   1.480269   1.811380   1.700970  1.173701  1.312895   \n",
       "3  shared_bottom_model   1.269089   1.551536   1.469694  1.000192  1.098734   \n",
       "4           MMoE_model   1.163429   1.441481   1.350437  0.923890  0.993016   \n",
       "5        MMoE_E1_model   1.332899   1.641467   1.538845  1.071534  1.134249   \n",
       "6        MMoE_E2_model   1.125488   1.370696   1.296642  0.884169  0.975938   \n",
       "7        MMoE_E4_model   1.013417   1.230831   1.168192  0.790519  0.884758   \n",
       "8        MMoE_E5_model   1.072247   1.317126   1.234614  0.843150  0.933097   \n",
       "9      MMoE_wo_q_model   9.082378  12.334106  11.651469  7.915936  5.326829   \n",
       "\n",
       "       stop  \n",
       "0       NaN  \n",
       "1       NaN  \n",
       "2  1.402397  \n",
       "3  1.225288  \n",
       "4  1.108323  \n",
       "5  1.278400  \n",
       "6  1.099993  \n",
       "7  0.992785  \n",
       "8  1.033247  \n",
       "9  8.183550  "
      ]
     },
     "execution_count": 46,
     "metadata": {},
     "output_type": "execute_result"
    }
   ],
   "source": [
    "# tensorflow 2.13.0\n",
    "df_prediction = pd.DataFrame(prediction_results, columns = ['model', 'total', 'wait', 'timeloss', 'travel', 'speed', 'stop'])\n",
    "df_prediction"
   ]
  },
  {
   "cell_type": "code",
   "execution_count": 47,
   "id": "1794b1c9-ad08-446e-8dc2-1d914274c138",
   "metadata": {},
   "outputs": [
    {
     "name": "stdout",
     "output_type": "stream",
     "text": [
      "2.11.0\n"
     ]
    }
   ],
   "source": [
    "print(tf.__version__)"
   ]
  },
  {
   "cell_type": "markdown",
   "id": "23902b1b-c77f-49e9-ac29-fa72ef0cc0f6",
   "metadata": {},
   "source": [
    "# Inference on train set"
   ]
  },
  {
   "cell_type": "code",
   "execution_count": 28,
   "id": "fd04022b-a302-4f74-b033-3759954bdd87",
   "metadata": {},
   "outputs": [
    {
     "name": "stdout",
     "output_type": "stream",
     "text": [
      "93750/93750 [==============================] - 76s 807us/step\n",
      "93750/93750 [==============================] - 92s 979us/step\n",
      "93750/93750 [==============================] - 98s 1ms/step\n",
      "93750/93750 [==============================] - 196s 2ms/step\n",
      "93750/93750 [==============================] - 182s 2ms/step\n",
      "93750/93750 [==============================] - 258s 3ms/step\n",
      "93750/93750 [==============================] - 323s 3ms/step\n",
      "93750/93750 [==============================] - 193s 2ms/step\n"
     ]
    }
   ],
   "source": [
    "prediction_results = []\n",
    "\n",
    "for model_name, model in models.items():\n",
    "    num_tasks = 1 if model_name in ['poly_reg', 'simple_MLP_y1_model'] else 5\n",
    "    \n",
    "    if model_name == 'MMoE_wo_q_model':\n",
    "        test_X = tr_X_wo_q \n",
    "    elif model_name == 'poly_reg':\n",
    "        test_X = tr_X_poly\n",
    "    else:\n",
    "        test_X = tr_X\n",
    "\n",
    "    test_y = tr_y1 if model_name in ['poly_reg', 'simple_MLP_y1_model'] else tr_y\n",
    "    \n",
    "    pred = model.predict(test_X)\n",
    "\n",
    "    trues = test_y\n",
    "    \n",
    "    # score writer\n",
    "    tmp_scr = [model_name]\n",
    "    tmp_scr.append((np.abs(pred - trues) / trues).mean() * 100)\n",
    "    \n",
    "    for i in range(num_tasks):\n",
    "        s_ = ((np.abs(pred[:,i] - trues[:,i])*300) / (trues[:,i]*300)).mean() * 100\n",
    "        tmp_scr.append(s_)\n",
    "\n",
    "    prediction_results.append(tmp_scr)"
   ]
  },
  {
   "cell_type": "code",
   "execution_count": 29,
   "id": "8925fc54-e4f5-4a2f-87d9-cdad49ae2a9c",
   "metadata": {},
   "outputs": [
    {
     "data": {
      "text/html": [
       "<div>\n",
       "<style scoped>\n",
       "    .dataframe tbody tr th:only-of-type {\n",
       "        vertical-align: middle;\n",
       "    }\n",
       "\n",
       "    .dataframe tbody tr th {\n",
       "        vertical-align: top;\n",
       "    }\n",
       "\n",
       "    .dataframe thead th {\n",
       "        text-align: right;\n",
       "    }\n",
       "</style>\n",
       "<table border=\"1\" class=\"dataframe\">\n",
       "  <thead>\n",
       "    <tr style=\"text-align: right;\">\n",
       "      <th></th>\n",
       "      <th>model</th>\n",
       "      <th>total</th>\n",
       "      <th>wait</th>\n",
       "      <th>timeloss</th>\n",
       "      <th>travel</th>\n",
       "      <th>speed</th>\n",
       "      <th>stop</th>\n",
       "    </tr>\n",
       "  </thead>\n",
       "  <tbody>\n",
       "    <tr>\n",
       "      <th>0</th>\n",
       "      <td>poly_reg</td>\n",
       "      <td>29.001113</td>\n",
       "      <td>29.001113</td>\n",
       "      <td>NaN</td>\n",
       "      <td>NaN</td>\n",
       "      <td>NaN</td>\n",
       "      <td>NaN</td>\n",
       "    </tr>\n",
       "    <tr>\n",
       "      <th>1</th>\n",
       "      <td>simple_MLP_y1_model</td>\n",
       "      <td>1.862791</td>\n",
       "      <td>1.862791</td>\n",
       "      <td>NaN</td>\n",
       "      <td>NaN</td>\n",
       "      <td>NaN</td>\n",
       "      <td>NaN</td>\n",
       "    </tr>\n",
       "    <tr>\n",
       "      <th>2</th>\n",
       "      <td>simple_MLP_y5_model</td>\n",
       "      <td>1.435095</td>\n",
       "      <td>1.752409</td>\n",
       "      <td>1.646708</td>\n",
       "      <td>1.135934</td>\n",
       "      <td>1.283739</td>\n",
       "      <td>1.356685</td>\n",
       "    </tr>\n",
       "    <tr>\n",
       "      <th>3</th>\n",
       "      <td>shared_bottom_model</td>\n",
       "      <td>1.227939</td>\n",
       "      <td>1.500891</td>\n",
       "      <td>1.419214</td>\n",
       "      <td>0.964801</td>\n",
       "      <td>1.065179</td>\n",
       "      <td>1.189609</td>\n",
       "    </tr>\n",
       "    <tr>\n",
       "      <th>4</th>\n",
       "      <td>MMoE_model</td>\n",
       "      <td>1.088612</td>\n",
       "      <td>1.343526</td>\n",
       "      <td>1.260467</td>\n",
       "      <td>0.859641</td>\n",
       "      <td>0.934005</td>\n",
       "      <td>1.045422</td>\n",
       "    </tr>\n",
       "    <tr>\n",
       "      <th>5</th>\n",
       "      <td>MMoE_E2_model</td>\n",
       "      <td>1.052491</td>\n",
       "      <td>1.279591</td>\n",
       "      <td>1.213922</td>\n",
       "      <td>0.815090</td>\n",
       "      <td>0.932825</td>\n",
       "      <td>1.021027</td>\n",
       "    </tr>\n",
       "    <tr>\n",
       "      <th>6</th>\n",
       "      <td>MMoE_E4_model</td>\n",
       "      <td>0.925743</td>\n",
       "      <td>1.125945</td>\n",
       "      <td>1.065625</td>\n",
       "      <td>0.719947</td>\n",
       "      <td>0.807685</td>\n",
       "      <td>0.909517</td>\n",
       "    </tr>\n",
       "    <tr>\n",
       "      <th>7</th>\n",
       "      <td>MMoE_E5_model</td>\n",
       "      <td>0.961746</td>\n",
       "      <td>1.175148</td>\n",
       "      <td>1.103131</td>\n",
       "      <td>0.751719</td>\n",
       "      <td>0.838949</td>\n",
       "      <td>0.939781</td>\n",
       "    </tr>\n",
       "    <tr>\n",
       "      <th>8</th>\n",
       "      <td>MMoE_wo_q_model</td>\n",
       "      <td>8.746688</td>\n",
       "      <td>11.856434</td>\n",
       "      <td>11.220215</td>\n",
       "      <td>7.617015</td>\n",
       "      <td>5.136988</td>\n",
       "      <td>7.902788</td>\n",
       "    </tr>\n",
       "  </tbody>\n",
       "</table>\n",
       "</div>"
      ],
      "text/plain": [
       "                 model      total       wait   timeloss    travel     speed  \\\n",
       "0             poly_reg  29.001113  29.001113        NaN       NaN       NaN   \n",
       "1  simple_MLP_y1_model   1.862791   1.862791        NaN       NaN       NaN   \n",
       "2  simple_MLP_y5_model   1.435095   1.752409   1.646708  1.135934  1.283739   \n",
       "3  shared_bottom_model   1.227939   1.500891   1.419214  0.964801  1.065179   \n",
       "4           MMoE_model   1.088612   1.343526   1.260467  0.859641  0.934005   \n",
       "5        MMoE_E2_model   1.052491   1.279591   1.213922  0.815090  0.932825   \n",
       "6        MMoE_E4_model   0.925743   1.125945   1.065625  0.719947  0.807685   \n",
       "7        MMoE_E5_model   0.961746   1.175148   1.103131  0.751719  0.838949   \n",
       "8      MMoE_wo_q_model   8.746688  11.856434  11.220215  7.617015  5.136988   \n",
       "\n",
       "       stop  \n",
       "0       NaN  \n",
       "1       NaN  \n",
       "2  1.356685  \n",
       "3  1.189609  \n",
       "4  1.045422  \n",
       "5  1.021027  \n",
       "6  0.909517  \n",
       "7  0.939781  \n",
       "8  7.902788  "
      ]
     },
     "execution_count": 29,
     "metadata": {},
     "output_type": "execute_result"
    }
   ],
   "source": [
    "df_prediction_train = pd.DataFrame(prediction_results, columns = ['model', 'total', 'wait', 'timeloss', 'travel', 'speed', 'stop'])\n",
    "df_prediction_train"
   ]
  },
  {
   "cell_type": "code",
   "execution_count": null,
   "id": "123eda2e-6179-41a9-af8c-1b8fd4652225",
   "metadata": {},
   "outputs": [],
   "source": []
  },
  {
   "cell_type": "code",
   "execution_count": null,
   "id": "cf075132-28b5-4067-bd42-462ae73f3571",
   "metadata": {},
   "outputs": [],
   "source": []
  },
  {
   "cell_type": "code",
   "execution_count": null,
   "id": "cb36ed00-4f42-47ed-bd66-9367a4fff7a1",
   "metadata": {},
   "outputs": [],
   "source": []
  }
 ],
 "metadata": {
  "kernelspec": {
   "display_name": "DNNpaper",
   "language": "python",
   "name": "dnnpaper"
  },
  "language_info": {
   "codemirror_mode": {
    "name": "ipython",
    "version": 3
   },
   "file_extension": ".py",
   "mimetype": "text/x-python",
   "name": "python",
   "nbconvert_exporter": "python",
   "pygments_lexer": "ipython3",
   "version": "3.8.9"
  }
 },
 "nbformat": 4,
 "nbformat_minor": 5
}
