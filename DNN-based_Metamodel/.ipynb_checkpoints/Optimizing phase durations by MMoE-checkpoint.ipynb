{
 "cells": [
  {
   "cell_type": "code",
   "execution_count": null,
   "id": "b63ea970",
   "metadata": {},
   "outputs": [],
   "source": [
    "import pandas as pd\n",
    "import numpy as np\n",
    "\n",
    "import warnings\n",
    "warnings.filterwarnings('ignore')"
   ]
  },
  {
   "cell_type": "code",
   "execution_count": null,
   "id": "838ad904",
   "metadata": {},
   "outputs": [],
   "source": [
    "from sklearn.model_selection import train_test_split\n",
    "import tensorflow as tf\n",
    "from tensorflow.keras.layers import *\n",
    "from sklearn.metrics import *"
   ]
  },
  {
   "cell_type": "code",
   "execution_count": null,
   "id": "747e2a22",
   "metadata": {},
   "outputs": [],
   "source": [
    "gpus = tf.config.experimental.list_physical_devices('GPU')\n",
    "if gpus:\n",
    "    try:\n",
    "        tf.config.experimental.set_memory_growth(gpus[0], True)\n",
    "    except RuntimeError as e:\n",
    "        print(e)"
   ]
  },
  {
   "cell_type": "code",
   "execution_count": null,
   "id": "9f505ba3",
   "metadata": {},
   "outputs": [],
   "source": [
    "from tqdm import tqdm"
   ]
  },
  {
   "cell_type": "markdown",
   "id": "54f17d8f",
   "metadata": {},
   "source": [
    "# Load Model"
   ]
  },
  {
   "cell_type": "code",
   "execution_count": null,
   "id": "47b9de38",
   "metadata": {},
   "outputs": [],
   "source": [
    "model = tf.keras.models.load_model(\"models/model_MMoE_original\")"
   ]
  },
  {
   "cell_type": "markdown",
   "id": "0e6a33bc",
   "metadata": {},
   "source": [
    "# Define functions"
   ]
  },
  {
   "cell_type": "code",
   "execution_count": null,
   "id": "b52313ef",
   "metadata": {},
   "outputs": [],
   "source": [
    "def get_loader(val_X, num_idx, minp, maxp, maxc, grid_step):\n",
    "    def gen_p(step=grid_step):\n",
    "        vx = list(val_X.values[num_idx][5:])\n",
    "        for p1 in range(minp, maxp + 1, step):\n",
    "            for p2 in range(minp, min(maxp + 1, maxc + 1 -p1), step):\n",
    "                for p3 in range(minp, min(maxp + 1, maxc + 1 - p1 - p2), step):\n",
    "                    for p4 in range(minp, min(maxp + 1, maxc + 1 - p1 - p2 - p3), step):\n",
    "                        if p1+p2+p3+p4 <= maxc:\n",
    "                            p = p1+p2+p3+p4\n",
    "                            yield np.array([p1/p, p2/p, p3/p, p4/p, p/maxc]+vx)\n",
    "                        \n",
    "    pred_loader = tf.data.Dataset.from_generator(\n",
    "                gen_p,\n",
    "                output_types=tf.dtypes.float64,\n",
    "                output_shapes=(val_X.shape[1],),\n",
    "            )\n",
    "\n",
    "    pred_loader = pred_loader.prefetch(tf.data.experimental.AUTOTUNE).batch(1024)\n",
    "    \n",
    "    return pred_loader, list(gen_p())"
   ]
  },
  {
   "cell_type": "code",
   "execution_count": null,
   "id": "056f7ec4",
   "metadata": {},
   "outputs": [],
   "source": [
    "def to_perc(x):\n",
    "    return x.apply(lambda x: x / x.sum(), axis=1)\n",
    "\n",
    "def process_var(_var, max_len=200):\n",
    "    var = to_perc(_var)\n",
    "    var['total_len'] = _var.sum(1) / max_len\n",
    "    return var\n",
    "\n",
    "def process_p(p, n_arms=4, max_v=1000):\n",
    "    for i in range(1, n_arms+1):\n",
    "        cols = list(filter(lambda x: int(x[0]) == i, p.columns))\n",
    "        p[f'{i}_v'] = p[cols].sum(1) / max_v\n",
    "        p[cols] = to_perc(p[cols])\n",
    "    return p\n",
    "\n",
    "def process_q(q_, n_arms=4):\n",
    "    q = q_.copy()\n",
    "    for i in range(1, n_arms+1):\n",
    "        q[list(filter(lambda x: len(x) > 1, q.columns[q.columns.str.contains(str(i))]))]  =\\\n",
    "            q[list(filter(lambda x: len(x) > 1, q.columns[q.columns.str.contains(str(i))]))].apply(lambda x: x/q[str(i)])\n",
    "        q[str(i)] /= 7\n",
    "\n",
    "    q_ohe = [tf.squeeze(tf.one_hot(feat, 7), 0).numpy() for i, feat in enumerate(q_.values.reshape(-1, 1, 16).T-1)]\n",
    "    q_ohe = tf.concat(q_ohe, axis=1).numpy()\n",
    "    q_ohe = pd.DataFrame(q_ohe)\n",
    "    q = pd.concat([q, q_ohe], axis=1)\n",
    "    return q\n",
    "\n",
    "def preprocess_all(p, q, var):\n",
    "    p = process_p(p)\n",
    "    q = process_q(q)\n",
    "    var = process_var(var)\n",
    "    \n",
    "    return p, q, var"
   ]
  },
  {
   "cell_type": "code",
   "execution_count": null,
   "id": "0797fb97",
   "metadata": {},
   "outputs": [],
   "source": [
    "def preprocess(df):\n",
    "    varcols = [f'p{i}' for i in range(1, 5)]\n",
    "    pcols = df.columns[df.columns.str.contains('_')]\n",
    "    qcols = ['1', '1l', '1r', '1s', \n",
    "             '2', '2l', '2r', '2s', \n",
    "             '3', '3l', '3r', '3s',\n",
    "             '4', '4l', '4r', '4s']\n",
    "    \n",
    "    var = df[varcols]\n",
    "    p = df[pcols]\n",
    "    q = df[qcols]\n",
    "    \n",
    "    p, q, var = preprocess_all(p, q, var)\n",
    "    \n",
    "    return df['id'], pd.concat([var, p, q], 1)"
   ]
  },
  {
   "cell_type": "code",
   "execution_count": null,
   "id": "bc78e66b",
   "metadata": {},
   "outputs": [],
   "source": [
    "def postprocess_var(var, maxc):\n",
    "    m = var[4]*maxc\n",
    "    return [round(x*m, 0) for x in var[:4]]"
   ]
  },
  {
   "cell_type": "code",
   "execution_count": null,
   "id": "357de9a2",
   "metadata": {},
   "outputs": [],
   "source": [
    "def postprocess_y(var):\n",
    "    var[:,:3] = var[:,:3] * 300\n",
    "    var[:,3] = var[:,3] * 6 + 3\n",
    "    var[:,4] = var[:,4] * 3\n",
    "    \n",
    "    return var"
   ]
  },
  {
   "cell_type": "code",
   "execution_count": null,
   "id": "a14ac0ef",
   "metadata": {},
   "outputs": [],
   "source": [
    "performance_measures = ['wait', 'travel', 'timeloss', 'stop', 'speed']"
   ]
  },
  {
   "cell_type": "markdown",
   "id": "c7c3321c",
   "metadata": {},
   "source": [
    "# Predictions on tendency intersection"
   ]
  },
  {
   "cell_type": "code",
   "execution_count": null,
   "id": "f54caba4",
   "metadata": {},
   "outputs": [],
   "source": [
    "df_tendency = pd.read_csv('data/tendency.csv', index_col=0).reset_index(drop=True)"
   ]
  },
  {
   "cell_type": "code",
   "execution_count": null,
   "id": "7e60404f",
   "metadata": {},
   "outputs": [],
   "source": [
    "df_tendency.columns"
   ]
  },
  {
   "cell_type": "code",
   "execution_count": null,
   "id": "71cd7c8c",
   "metadata": {},
   "outputs": [],
   "source": [
    "strat, X = preprocess(df_tendency)"
   ]
  },
  {
   "cell_type": "code",
   "execution_count": null,
   "id": "4d16e871",
   "metadata": {},
   "outputs": [],
   "source": [
    "test_id = list(tqdm(df_tendency.id.unique()))"
   ]
  },
  {
   "cell_type": "code",
   "execution_count": null,
   "id": "da113b30",
   "metadata": {},
   "outputs": [],
   "source": [
    "temp_val_X = X[strat.isin(test_id)]\n",
    "pred = model.predict(temp_val_X) # 0: waiting"
   ]
  },
  {
   "cell_type": "code",
   "execution_count": null,
   "id": "0288de84",
   "metadata": {},
   "outputs": [],
   "source": [
    "df_sample_test_pred = pd.DataFrame(postprocess_y(pred))"
   ]
  },
  {
   "cell_type": "code",
   "execution_count": null,
   "id": "3f0f84f6",
   "metadata": {},
   "outputs": [],
   "source": [
    "df_sample_test_pred.columns = ['wait_pred', 'timeloss_pred','travel_pred','speed_pred','stop_pred']\n",
    "df_sample_test_pred = df_sample_test_pred[[f'{pm}_pred' for pm in performance_measures]]"
   ]
  },
  {
   "cell_type": "code",
   "execution_count": null,
   "id": "cf5af93d",
   "metadata": {},
   "outputs": [],
   "source": [
    "df_sample_test_pred"
   ]
  },
  {
   "cell_type": "code",
   "execution_count": null,
   "id": "018869e0",
   "metadata": {},
   "outputs": [],
   "source": [
    "df_tendency.loc[:, df_sample_test_pred.columns] = df_sample_test_pred"
   ]
  },
  {
   "cell_type": "code",
   "execution_count": null,
   "id": "d7663ceb",
   "metadata": {},
   "outputs": [],
   "source": [
    "df_tendency.to_csv('data/tendency_pred.csv')"
   ]
  },
  {
   "cell_type": "code",
   "execution_count": null,
   "id": "62703376",
   "metadata": {},
   "outputs": [],
   "source": []
  },
  {
   "cell_type": "markdown",
   "id": "829d7299",
   "metadata": {},
   "source": [
    "# Predictions on sample test intersections"
   ]
  },
  {
   "cell_type": "code",
   "execution_count": null,
   "id": "b039ed06",
   "metadata": {},
   "outputs": [],
   "source": [
    "df_sample_test = pd.read_csv(f'data/data_test.csv', index_col=0)"
   ]
  },
  {
   "cell_type": "code",
   "execution_count": null,
   "id": "6c7ba61e",
   "metadata": {},
   "outputs": [],
   "source": [
    "strat, X = preprocess(df_sample_test)"
   ]
  },
  {
   "cell_type": "code",
   "execution_count": null,
   "id": "de5fe3f6",
   "metadata": {},
   "outputs": [],
   "source": [
    "test_id = list(tqdm(df_sample_test.id.unique()))"
   ]
  },
  {
   "cell_type": "code",
   "execution_count": null,
   "id": "fcb41f4b",
   "metadata": {},
   "outputs": [],
   "source": [
    "temp_val_X = X[strat.isin(test_id)]\n",
    "pred = model.predict(temp_val_X) # 0: waiting"
   ]
  },
  {
   "cell_type": "code",
   "execution_count": null,
   "id": "68bf7211",
   "metadata": {},
   "outputs": [],
   "source": [
    "df_sample_test_pred = pd.DataFrame(postprocess_y(pred))"
   ]
  },
  {
   "cell_type": "code",
   "execution_count": null,
   "id": "41ed3f8d",
   "metadata": {},
   "outputs": [],
   "source": [
    "df_sample_test_pred.columns = ['wait_pred', 'timeloss_pred','travel_pred','speed_pred','stop_pred']\n",
    "df_sample_test_pred = df_sample_test_pred[[f'{pm}_pred' for pm in performance_measures]]"
   ]
  },
  {
   "cell_type": "code",
   "execution_count": null,
   "id": "09d990a2",
   "metadata": {},
   "outputs": [],
   "source": [
    "df_sample_test_pred"
   ]
  },
  {
   "cell_type": "code",
   "execution_count": null,
   "id": "aeb1d1fe",
   "metadata": {},
   "outputs": [],
   "source": [
    "df_comparison = df_sample_test\n",
    "\n",
    "for pm in performance_measures:\n",
    "    df_comparison.loc[:, pm] = df_comparison[[f'{pm}{i}' for i in range(5)]].mean(axis=1)"
   ]
  },
  {
   "cell_type": "code",
   "execution_count": null,
   "id": "3bdf7077",
   "metadata": {},
   "outputs": [],
   "source": [
    "df_comparison = pd.concat([df_comparison, df_sample_test_pred], axis=1)\n",
    "df_comparison"
   ]
  },
  {
   "cell_type": "code",
   "execution_count": null,
   "id": "0d977aa9",
   "metadata": {},
   "outputs": [],
   "source": []
  },
  {
   "cell_type": "markdown",
   "id": "a57a346c",
   "metadata": {},
   "source": [
    "# Optimization on sample test intersections"
   ]
  },
  {
   "cell_type": "code",
   "execution_count": null,
   "id": "5b5e12a1",
   "metadata": {},
   "outputs": [],
   "source": [
    "df_sample_test = pd.read_csv(f'data/data_test.csv', index_col=0)"
   ]
  },
  {
   "cell_type": "code",
   "execution_count": null,
   "id": "7a157086",
   "metadata": {},
   "outputs": [],
   "source": [
    "df_sample_test_for_opt = df_sample_test.drop_duplicates(subset=['id', '1_2', '1_3', '1_4', '2_1', '2_3', '2_4', '3_1', '3_2', '3_4', '4_1', '4_2', '4_3']).reset_index(drop=True)\n",
    "df_sample_test_for_opt"
   ]
  },
  {
   "cell_type": "code",
   "execution_count": null,
   "id": "5f6562d7",
   "metadata": {},
   "outputs": [],
   "source": [
    "strat, X = preprocess(df_sample_test_for_opt)"
   ]
  },
  {
   "cell_type": "code",
   "execution_count": null,
   "id": "1c55a4fb",
   "metadata": {},
   "outputs": [],
   "source": [
    "test_id = list(tqdm(df_sample_test_for_opt.id.unique()))"
   ]
  },
  {
   "cell_type": "markdown",
   "id": "2ad14730",
   "metadata": {},
   "source": [
    "### Grid 3"
   ]
  },
  {
   "cell_type": "code",
   "execution_count": null,
   "id": "177dc7da",
   "metadata": {},
   "outputs": [],
   "source": [
    "df_sample_test_for_opt_grid_3 = df_sample_test_for_opt"
   ]
  },
  {
   "cell_type": "code",
   "execution_count": null,
   "id": "d090724d",
   "metadata": {},
   "outputs": [],
   "source": [
    "min_phase_duration = 5\n",
    "max_phase_duartion = 120\n",
    "max_cycle_length = 200 - 12\n",
    "stepsize = 3"
   ]
  },
  {
   "cell_type": "code",
   "execution_count": null,
   "id": "09cb53f0-fe1c-4203-8a11-f0056974ebff",
   "metadata": {},
   "outputs": [],
   "source": [
    "for num_idx, idx in enumerate(X.index):\n",
    "    pred_loader, pav = get_loader(X, num_idx, min_phase_duration, max_phase_duartion, max_cycle_length, stepsize)\n",
    "    pred = model.predict(pred_loader)[:,0] # 0: waiting\n",
    "    df_sample_test_for_opt_grid_3.loc[idx, ['p1', 'p2', 'p3', 'p4']] = postprocess_var(pav[np.argmin(pred)])"
   ]
  },
  {
   "cell_type": "code",
   "execution_count": null,
   "id": "7010620e",
   "metadata": {},
   "outputs": [],
   "source": [
    "df_sample_test_for_opt_grid_3.to_csv('data/optimized_results/opt_grid_3.csv')"
   ]
  },
  {
   "cell_type": "markdown",
   "id": "0e3dda67",
   "metadata": {},
   "source": [
    "### Grid 5"
   ]
  },
  {
   "cell_type": "code",
   "execution_count": null,
   "id": "b768f0e0",
   "metadata": {},
   "outputs": [],
   "source": [
    "df_sample_test_for_opt_grid_5 = df_sample_test_for_opt"
   ]
  },
  {
   "cell_type": "code",
   "execution_count": null,
   "id": "fca58780",
   "metadata": {},
   "outputs": [],
   "source": [
    "min_phase_duration = 5\n",
    "max_phase_duartion = 120\n",
    "max_cycle_length = 200 - 12\n",
    "stepsize = 5"
   ]
  },
  {
   "cell_type": "code",
   "execution_count": null,
   "id": "f8792b73-935f-4e9a-8d95-aa82c57a67d2",
   "metadata": {},
   "outputs": [],
   "source": [
    "for num_idx, idx in enumerate(X.index):\n",
    "    pred_loader, pav = get_loader(X, num_idx, min_phase_duration, max_phase_duartion, max_cycle_length, stepsize)\n",
    "    pred = model.predict(pred_loader)[:,0] # 0: waiting\n",
    "    df_sample_test_for_opt.loc[idx, ['p1', 'p2', 'p3', 'p4']] = postprocess_var(pav[np.argmin(pred)])"
   ]
  },
  {
   "cell_type": "code",
   "execution_count": null,
   "id": "aeeecdcc",
   "metadata": {},
   "outputs": [],
   "source": [
    "df_sample_test_for_opt_grid_5.to_csv('data/optimized_results/opt_grid_5.csv')"
   ]
  },
  {
   "cell_type": "code",
   "execution_count": null,
   "id": "e8929cc3",
   "metadata": {},
   "outputs": [],
   "source": []
  },
  {
   "cell_type": "markdown",
   "id": "fe574142",
   "metadata": {},
   "source": [
    "### Grid 7"
   ]
  },
  {
   "cell_type": "code",
   "execution_count": null,
   "id": "e0133af9",
   "metadata": {},
   "outputs": [],
   "source": [
    "df_sample_test_for_opt_grid_7 = df_sample_test_for_opt"
   ]
  },
  {
   "cell_type": "code",
   "execution_count": null,
   "id": "e09d6814",
   "metadata": {},
   "outputs": [],
   "source": [
    "min_phase_duration = 5\n",
    "max_phase_duartion = 120\n",
    "max_cycle_length = 200 - 12\n",
    "stepsize = 7"
   ]
  },
  {
   "cell_type": "code",
   "execution_count": null,
   "id": "9837cde2-3b39-41db-95d1-051700c14b58",
   "metadata": {},
   "outputs": [],
   "source": [
    "for num_idx, idx in enumerate(X.index):\n",
    "    pred_loader, pav = get_loader(X, num_idx, min_phase_duration, max_phase_duartion, max_cycle_length, stepsize)\n",
    "    pred = model.predict(pred_loader)[:,0] # 0: waiting\n",
    "    df_sample_test_for_opt_grid_7.loc[idx, ['p1', 'p2', 'p3', 'p4']] = postprocess_var(pav[np.argmin(pred)])"
   ]
  },
  {
   "cell_type": "code",
   "execution_count": null,
   "id": "3a6e2894",
   "metadata": {},
   "outputs": [],
   "source": [
    "df_sample_test_for_opt_grid_7.to_csv('data/optimized_results/opt_grid_7.csv')"
   ]
  },
  {
   "cell_type": "code",
   "execution_count": null,
   "id": "e5189cd1",
   "metadata": {},
   "outputs": [],
   "source": []
  },
  {
   "cell_type": "markdown",
   "id": "9645e943",
   "metadata": {},
   "source": [
    "# Optimization on real intersections"
   ]
  },
  {
   "cell_type": "code",
   "execution_count": null,
   "id": "ac903f12",
   "metadata": {},
   "outputs": [],
   "source": [
    "df_real = pd.read_csv(f'data/data_real_intersection.csv', index_col=0)"
   ]
  },
  {
   "cell_type": "code",
   "execution_count": null,
   "id": "0ec09e8c",
   "metadata": {},
   "outputs": [],
   "source": [
    "df_real_for_opt = df_real.drop_duplicates(subset=['id', '1_2', '1_3', '1_4', '2_1', '2_3', '2_4', '3_1', '3_2', '3_4', '4_1', '4_2', '4_3']).reset_index(drop=True)\n",
    "df_real_for_opt['idx'] = df_real_for_opt['id']\n",
    "df_real_for_opt['id'] = 'real'\n",
    "df_real_for_opt"
   ]
  },
  {
   "cell_type": "code",
   "execution_count": null,
   "id": "a678084a",
   "metadata": {},
   "outputs": [],
   "source": [
    "strat, X = preprocess(df_real_for_opt)"
   ]
  },
  {
   "cell_type": "code",
   "execution_count": null,
   "id": "7126227b",
   "metadata": {},
   "outputs": [],
   "source": [
    "test_id = list(tqdm(df_real_for_opt.id.unique()))"
   ]
  },
  {
   "cell_type": "markdown",
   "id": "1a931050",
   "metadata": {},
   "source": [
    "#### Loader for real intersection"
   ]
  },
  {
   "cell_type": "code",
   "execution_count": null,
   "id": "5ae10366",
   "metadata": {},
   "outputs": [],
   "source": [
    "def get_loader_real(val_X, num_idx, minp, maxp, maxc, fixed, grid_step):\n",
    "    def gen_p(step=grid_step):\n",
    "        vx = list(val_X.values[num_idx][5:])\n",
    "        for p1 in range(minp[0], maxp[0] + 1, step):\n",
    "            for p2 in range(minp[1], min(maxp[1] + 1, maxc + 1 -p1), step):\n",
    "                for p3 in range(minp[2], min(maxp[2] + 1, maxc + 1 - p1 - p2), step):\n",
    "                    if fixed:\n",
    "                        if maxp[3] > maxc - p1 - p2 - p3 > minp[3]:\n",
    "                            p4 = maxc - p1 - p2 - p3\n",
    "                            p = maxc\n",
    "                            yield np.array([p1/p, p2/p, p3/p, p4/p, p/maxc]+vx)\n",
    "                    else:\n",
    "                        for p4 in range(minp[3], min(maxp[3] + 1, maxc + 1 - p1 - p2 - p3), step):\n",
    "                            if p1+p2+p3+p4 <= maxc:\n",
    "                                p = p1+p2+p3+p4\n",
    "                                yield np.array([p1/p, p2/p, p3/p, p4/p, p/maxc]+vx)\n",
    "    \n",
    "    pred_loader = tf.data.Dataset.from_generator(\n",
    "                gen_p,\n",
    "                output_types=tf.dtypes.float64,\n",
    "                output_shapes=(val_X.shape[1],),\n",
    "            )\n",
    "\n",
    "    pred_loader = pred_loader.prefetch(tf.data.experimental.AUTOTUNE).batch(1024)\n",
    "    \n",
    "    return pred_loader, list(gen_p())"
   ]
  },
  {
   "cell_type": "markdown",
   "id": "0d975765",
   "metadata": {},
   "source": [
    "## Original problem"
   ]
  },
  {
   "cell_type": "markdown",
   "id": "7a1b7740",
   "metadata": {},
   "source": [
    "### Grid 3"
   ]
  },
  {
   "cell_type": "code",
   "execution_count": null,
   "id": "9a883414",
   "metadata": {},
   "outputs": [],
   "source": [
    "df_real_for_opt_grid_3 = df_real_for_opt"
   ]
  },
  {
   "cell_type": "code",
   "execution_count": null,
   "id": "6ba9afe4",
   "metadata": {},
   "outputs": [],
   "source": [
    "min_phase_duration = [5, 27, 5, 27]\n",
    "max_phase_duartion = [120, 120, 120, 120]\n",
    "max_cycle_length = 200 - 12\n",
    "fixed = False\n",
    "stepsize = 3"
   ]
  },
  {
   "cell_type": "code",
   "execution_count": null,
   "id": "9b5249ca",
   "metadata": {
    "scrolled": true
   },
   "outputs": [],
   "source": [
    "for num_idx, idx in enumerate(X.index):\n",
    "    pred_loader, pav = get_loader_real(X, num_idx, min_phase_duration, max_phase_duartion, max_cycle_length, fixed, stepsize)\n",
    "    pred = model.predict(pred_loader)[:,0] # 0: waiting\n",
    "    df_real_for_opt_grid_3.loc[idx, ['p1', 'p2', 'p3', 'p4']] = postprocess_var(pav[np.argmin(pred)],max_cycle_length)"
   ]
  },
  {
   "cell_type": "code",
   "execution_count": null,
   "id": "e554814c",
   "metadata": {},
   "outputs": [],
   "source": [
    "df_real_for_opt_grid_3.to_csv('data/optimized_results/opt_real_grid_3.csv')"
   ]
  },
  {
   "cell_type": "markdown",
   "id": "c56a547d",
   "metadata": {},
   "source": [
    "### Grid 5"
   ]
  },
  {
   "cell_type": "code",
   "execution_count": null,
   "id": "e93a59b8",
   "metadata": {},
   "outputs": [],
   "source": [
    "df_real_for_opt_grid_5 = df_real_for_opt"
   ]
  },
  {
   "cell_type": "code",
   "execution_count": null,
   "id": "65019988",
   "metadata": {},
   "outputs": [],
   "source": [
    "min_phase_duration = [5, 27, 5, 27]\n",
    "max_phase_duartion = [120, 120, 120, 120]\n",
    "max_cycle_length = 200 - 12\n",
    "fixed = False\n",
    "stepsize = 5"
   ]
  },
  {
   "cell_type": "code",
   "execution_count": null,
   "id": "144e63cc",
   "metadata": {
    "scrolled": true
   },
   "outputs": [],
   "source": [
    "for num_idx, idx in enumerate(X.index):\n",
    "    pred_loader, pav = get_loader_real(X, num_idx, min_phase_duration, max_phase_duartion, max_cycle_length, fixed, stepsize)\n",
    "    pred = model.predict(pred_loader)[:,0] # 0: waiting\n",
    "    df_real_for_opt_grid_5.loc[idx, ['p1', 'p2', 'p3', 'p4']] = postprocess_var(pav[np.argmin(pred)],max_cycle_length)"
   ]
  },
  {
   "cell_type": "code",
   "execution_count": null,
   "id": "0744bac1",
   "metadata": {},
   "outputs": [],
   "source": [
    "df_real_for_opt_grid_5.to_csv('data/optimized_results/opt_real_grid_5.csv')"
   ]
  },
  {
   "cell_type": "markdown",
   "id": "872330cd",
   "metadata": {},
   "source": [
    "### Grid 7"
   ]
  },
  {
   "cell_type": "code",
   "execution_count": null,
   "id": "a0910563",
   "metadata": {},
   "outputs": [],
   "source": [
    "df_real_for_opt_grid_7 = df_real_for_opt"
   ]
  },
  {
   "cell_type": "code",
   "execution_count": null,
   "id": "5c201b52",
   "metadata": {},
   "outputs": [],
   "source": [
    "min_phase_duration = [5, 27, 5, 27]\n",
    "max_phase_duartion = [120, 120, 120, 120]\n",
    "max_cycle_length = 200 - 12\n",
    "fixed = False\n",
    "stepsize = 7"
   ]
  },
  {
   "cell_type": "code",
   "execution_count": null,
   "id": "3a7faab8",
   "metadata": {
    "scrolled": true
   },
   "outputs": [],
   "source": [
    "for num_idx, idx in enumerate(X.index):\n",
    "    pred_loader, pav = get_loader_real(X, num_idx, min_phase_duration, max_phase_duartion, max_cycle_length, fixed, stepsize)\n",
    "    pred = model.predict(pred_loader)[:,0] # 0: waiting\n",
    "    df_real_for_opt_grid_7.loc[idx, ['p1', 'p2', 'p3', 'p4']] = postprocess_var(pav[np.argmin(pred)],max_cycle_length)"
   ]
  },
  {
   "cell_type": "code",
   "execution_count": null,
   "id": "aa90acfb",
   "metadata": {},
   "outputs": [],
   "source": [
    "df_real_for_opt_grid_7.to_csv('data/optimized_results/opt_real_grid_7.csv')"
   ]
  },
  {
   "cell_type": "code",
   "execution_count": null,
   "id": "2a5f8b87",
   "metadata": {},
   "outputs": [],
   "source": []
  },
  {
   "cell_type": "markdown",
   "id": "ecb0067d",
   "metadata": {},
   "source": [
    "## Fixed Cycle length"
   ]
  },
  {
   "cell_type": "markdown",
   "id": "a4afe8cf",
   "metadata": {},
   "source": [
    "### Grid 1"
   ]
  },
  {
   "cell_type": "code",
   "execution_count": null,
   "id": "83bf7c9c",
   "metadata": {},
   "outputs": [],
   "source": [
    "df_real_for_opt_grid_1 = df_real_for_opt"
   ]
  },
  {
   "cell_type": "code",
   "execution_count": null,
   "id": "a413aec4",
   "metadata": {},
   "outputs": [],
   "source": [
    "min_phase_duration = [5, 27, 5, 27]\n",
    "max_phase_duartion = [120, 120, 120, 120]\n",
    "max_cycle_length = 180 - 12\n",
    "fixed = True\n",
    "stepsize = 1"
   ]
  },
  {
   "cell_type": "code",
   "execution_count": null,
   "id": "84320002",
   "metadata": {
    "scrolled": true
   },
   "outputs": [],
   "source": [
    "for num_idx, idx in enumerate(X.index):\n",
    "    pred_loader, pav = get_loader_real(X, num_idx, min_phase_duration, max_phase_duartion, max_cycle_length, fixed, stepsize)\n",
    "    pred = model.predict(pred_loader)[:,0] # 0: waiting\n",
    "    df_real_for_opt_grid_1.loc[idx, ['p1', 'p2', 'p3', 'p4']] = postprocess_var(pav[np.argmin(pred)], max_cycle_length)"
   ]
  },
  {
   "cell_type": "code",
   "execution_count": null,
   "id": "94eb623b",
   "metadata": {},
   "outputs": [],
   "source": [
    "df_real_for_opt_grid_1.to_csv('data/optimized_results/opt_real_fixed_grid_1.csv')"
   ]
  },
  {
   "cell_type": "markdown",
   "id": "17788270",
   "metadata": {},
   "source": [
    "### Grid 3"
   ]
  },
  {
   "cell_type": "code",
   "execution_count": null,
   "id": "64fc7e35",
   "metadata": {},
   "outputs": [],
   "source": [
    "df_real_for_opt_grid_3 = df_real_for_opt"
   ]
  },
  {
   "cell_type": "code",
   "execution_count": null,
   "id": "9d8cfdf7",
   "metadata": {},
   "outputs": [],
   "source": [
    "min_phase_duration = [5, 27, 5, 27]\n",
    "max_phase_duartion = [120, 120, 120, 120]\n",
    "max_cycle_length = 180 - 12\n",
    "fixed = True\n",
    "stepsize = 3"
   ]
  },
  {
   "cell_type": "code",
   "execution_count": null,
   "id": "e2cbd86a",
   "metadata": {
    "scrolled": true
   },
   "outputs": [],
   "source": [
    "for num_idx, idx in enumerate(X.index):\n",
    "    pred_loader, pav = get_loader_real(X, num_idx, min_phase_duration, max_phase_duartion, max_cycle_length, fixed, stepsize)\n",
    "    pred = model.predict(pred_loader)[:,0] # 0: waiting\n",
    "    df_real_for_opt_grid_3.loc[idx, ['p1', 'p2', 'p3', 'p4']] = postprocess_var(pav[np.argmin(pred)],max_cycle_length)"
   ]
  },
  {
   "cell_type": "code",
   "execution_count": null,
   "id": "b0c9df4b",
   "metadata": {},
   "outputs": [],
   "source": [
    "df_real_for_opt_grid_3.to_csv('data/optimized_results/opt_real_fixed_grid_3.csv')"
   ]
  },
  {
   "cell_type": "markdown",
   "id": "055acc03",
   "metadata": {},
   "source": [
    "### Grid 5"
   ]
  },
  {
   "cell_type": "code",
   "execution_count": null,
   "id": "81d553c5",
   "metadata": {},
   "outputs": [],
   "source": [
    "df_real_for_opt_grid_5 = df_real_for_opt"
   ]
  },
  {
   "cell_type": "code",
   "execution_count": null,
   "id": "281bab24",
   "metadata": {},
   "outputs": [],
   "source": [
    "min_phase_duration = [5, 27, 5, 27]\n",
    "max_phase_duartion = [120, 120, 120, 120]\n",
    "max_cycle_length = 180 - 12\n",
    "fixed = True\n",
    "stepsize = 5"
   ]
  },
  {
   "cell_type": "code",
   "execution_count": null,
   "id": "50437661",
   "metadata": {
    "scrolled": true
   },
   "outputs": [],
   "source": [
    "for num_idx, idx in enumerate(X.index):\n",
    "    pred_loader, pav = get_loader_real(X, num_idx, min_phase_duration, max_phase_duartion, max_cycle_length, fixed, stepsize)\n",
    "    pred = model.predict(pred_loader)[:,0] # 0: waiting\n",
    "    df_real_for_opt_grid_5.loc[idx, ['p1', 'p2', 'p3', 'p4']] = postprocess_var(pav[np.argmin(pred)],max_cycle_length)"
   ]
  },
  {
   "cell_type": "code",
   "execution_count": null,
   "id": "a2903698",
   "metadata": {},
   "outputs": [],
   "source": [
    "df_real_for_opt_grid_5.to_csv('data/optimized_results/opt_real_fixed_grid_5.csv')"
   ]
  },
  {
   "cell_type": "code",
   "execution_count": null,
   "id": "6ec5984d",
   "metadata": {},
   "outputs": [],
   "source": []
  },
  {
   "cell_type": "markdown",
   "id": "24e5cd86",
   "metadata": {},
   "source": [
    "### Grid 7"
   ]
  },
  {
   "cell_type": "code",
   "execution_count": null,
   "id": "8eaf9107",
   "metadata": {},
   "outputs": [],
   "source": [
    "df_real_for_opt_grid_7 = df_real_for_opt"
   ]
  },
  {
   "cell_type": "code",
   "execution_count": null,
   "id": "726dba86",
   "metadata": {},
   "outputs": [],
   "source": [
    "min_phase_duration = [5, 27, 5, 27]\n",
    "max_phase_duartion = [120, 120, 120, 120]\n",
    "max_cycle_length = 180 - 12\n",
    "fixed = True\n",
    "stepsize = 7"
   ]
  },
  {
   "cell_type": "code",
   "execution_count": null,
   "id": "54c83960",
   "metadata": {
    "scrolled": true
   },
   "outputs": [],
   "source": [
    "for num_idx, idx in enumerate(X.index):\n",
    "    pred_loader, pav = get_loader_real(X, num_idx, min_phase_duration, max_phase_duartion, max_cycle_length, fixed, stepsize)\n",
    "    pred = model.predict(pred_loader)[:,0] # 0: waiting\n",
    "    df_real_for_opt_grid_7.loc[idx, ['p1', 'p2', 'p3', 'p4']] = postprocess_var(pav[np.argmin(pred)],max_cycle_length)"
   ]
  },
  {
   "cell_type": "code",
   "execution_count": null,
   "id": "3b4e5f7b",
   "metadata": {},
   "outputs": [],
   "source": [
    "df_real_for_opt_grid_7.to_csv('data/optimized_results/opt_real_fixed_grid_7.csv')"
   ]
  },
  {
   "cell_type": "code",
   "execution_count": null,
   "id": "38be066a",
   "metadata": {},
   "outputs": [],
   "source": []
  },
  {
   "cell_type": "markdown",
   "id": "46883b2f",
   "metadata": {},
   "source": [
    "## Multi-objective (travel time 1 speed -10)"
   ]
  },
  {
   "cell_type": "markdown",
   "id": "16ce3e41",
   "metadata": {},
   "source": [
    "### Grid 3"
   ]
  },
  {
   "cell_type": "code",
   "execution_count": null,
   "id": "6bfbe41b",
   "metadata": {},
   "outputs": [],
   "source": [
    "df_real_for_opt_grid_3 = df_real_for_opt"
   ]
  },
  {
   "cell_type": "code",
   "execution_count": null,
   "id": "11ea4e3f",
   "metadata": {},
   "outputs": [],
   "source": [
    "min_phase_duration = [5, 27, 5, 27]\n",
    "max_phase_duartion = [120, 120, 120, 120]\n",
    "max_cycle_length = 200 - 12\n",
    "fixed = False\n",
    "stepsize = 3"
   ]
  },
  {
   "cell_type": "code",
   "execution_count": null,
   "id": "25c7f973",
   "metadata": {
    "scrolled": true
   },
   "outputs": [],
   "source": [
    "for num_idx, idx in enumerate(X.index):\n",
    "    pred_loader, pav = get_loader_real(X, num_idx, min_phase_duration, max_phase_duartion, max_cycle_length, fixed, stepsize)\n",
    "    pred = model.predict(pred_loader)[:,[2,3]] # 2: travel time, 3: speed\n",
    "    pred = pred.dot([300, -60]) \n",
    "    df_real_for_opt_grid_3.loc[idx, ['p1', 'p2', 'p3', 'p4']] = postprocess_var(pav[np.argmin(pred)],max_cycle_length)"
   ]
  },
  {
   "cell_type": "code",
   "execution_count": null,
   "id": "bc066ab0",
   "metadata": {},
   "outputs": [],
   "source": [
    "df_real_for_opt_grid_3.to_csv('data/optimized_results/opt_real_another_pm_grid_3.csv')"
   ]
  },
  {
   "cell_type": "markdown",
   "id": "64f82a54",
   "metadata": {},
   "source": [
    "### Grid 5"
   ]
  },
  {
   "cell_type": "code",
   "execution_count": null,
   "id": "0a32780b",
   "metadata": {},
   "outputs": [],
   "source": [
    "df_real_for_opt_grid_5 = df_real_for_opt"
   ]
  },
  {
   "cell_type": "code",
   "execution_count": null,
   "id": "b3e74c0e",
   "metadata": {},
   "outputs": [],
   "source": [
    "min_phase_duration = [5, 27, 5, 27]\n",
    "max_phase_duartion = [120, 120, 120, 120]\n",
    "max_cycle_length = 200 - 12\n",
    "fixed = False\n",
    "stepsize = 5"
   ]
  },
  {
   "cell_type": "code",
   "execution_count": null,
   "id": "e2c47b93",
   "metadata": {
    "scrolled": true
   },
   "outputs": [],
   "source": [
    "for num_idx, idx in enumerate(X.index):\n",
    "    pred_loader, pav = get_loader_real(X, num_idx, min_phase_duration, max_phase_duartion, max_cycle_length, fixed, stepsize)\n",
    "    pred = model.predict(pred_loader)[:,[2,3]] # 2: travel time, 3: speed\n",
    "    pred = pred.dot([300, -60]) \n",
    "    df_real_for_opt_grid_5.loc[idx, ['p1', 'p2', 'p3', 'p4']] = postprocess_var(pav[np.argmin(pred)],max_cycle_length)"
   ]
  },
  {
   "cell_type": "code",
   "execution_count": null,
   "id": "f4b3c8ad",
   "metadata": {},
   "outputs": [],
   "source": [
    "df_real_for_opt_grid_5.to_csv('data/optimized_results/opt_real_another_pm_grid_5.csv')"
   ]
  },
  {
   "cell_type": "code",
   "execution_count": null,
   "id": "d6dea5b4",
   "metadata": {},
   "outputs": [],
   "source": []
  },
  {
   "cell_type": "markdown",
   "id": "2ee5bbd7",
   "metadata": {},
   "source": [
    "### Grid 7"
   ]
  },
  {
   "cell_type": "code",
   "execution_count": null,
   "id": "1f316a00",
   "metadata": {},
   "outputs": [],
   "source": [
    "df_real_for_opt_grid_7 = df_real_for_opt"
   ]
  },
  {
   "cell_type": "code",
   "execution_count": null,
   "id": "cf36c2d3",
   "metadata": {},
   "outputs": [],
   "source": [
    "min_phase_duration = [5, 27, 5, 27]\n",
    "max_phase_duartion = [120, 120, 120, 120]\n",
    "max_cycle_length = 200 - 12\n",
    "fixed = False\n",
    "stepsize = 7"
   ]
  },
  {
   "cell_type": "code",
   "execution_count": null,
   "id": "bba0fa50",
   "metadata": {
    "scrolled": true
   },
   "outputs": [],
   "source": [
    "for num_idx, idx in enumerate(X.index):\n",
    "    pred_loader, pav = get_loader_real(X, num_idx, min_phase_duration, max_phase_duartion, max_cycle_length, fixed, stepsize)\n",
    "    pred = model.predict(pred_loader)[:,[2,3]] # 2: travel time, 3: speed\n",
    "    pred = pred.dot([300, -60]) \n",
    "    df_real_for_opt_grid_7.loc[idx, ['p1', 'p2', 'p3', 'p4']] = postprocess_var(pav[np.argmin(pred)],max_cycle_length)"
   ]
  },
  {
   "cell_type": "code",
   "execution_count": null,
   "id": "755ca425",
   "metadata": {},
   "outputs": [],
   "source": [
    "df_real_for_opt_grid_7.to_csv('data/optimized_results/opt_real_another_pm_grid_7.csv')"
   ]
  },
  {
   "cell_type": "code",
   "execution_count": null,
   "id": "b2a17ca0",
   "metadata": {},
   "outputs": [],
   "source": []
  },
  {
   "cell_type": "markdown",
   "id": "4bf0f3f6-283f-4f93-86fc-907009faea03",
   "metadata": {},
   "source": [
    "# Optimization on Individuals of multiple intersections"
   ]
  },
  {
   "cell_type": "code",
   "execution_count": null,
   "id": "2e470a4a-5445-4bb5-a852-9b2e25c68473",
   "metadata": {},
   "outputs": [],
   "source": [
    "df_individual = pd.read_csv(f'data/data_individuals_of_multiple_intersection.csv', index_col=0)"
   ]
  },
  {
   "cell_type": "code",
   "execution_count": null,
   "id": "6258bbf0-9fda-412e-8afa-c783264dd130",
   "metadata": {},
   "outputs": [],
   "source": [
    "df_individual_for_opt = df_individual.drop_duplicates(subset=['id', '1_2', '1_3', '1_4', '2_1', '2_3', '2_4', '3_1', '3_2', '3_4', '4_1', '4_2', '4_3']).reset_index(drop=True)\n",
    "df_individual_for_opt['idx'] = df_individual_for_opt['id']\n",
    "df_individual_for_opt"
   ]
  },
  {
   "cell_type": "code",
   "execution_count": null,
   "id": "69b7a12e-ef45-400d-a834-3b32f39f4cf9",
   "metadata": {},
   "outputs": [],
   "source": [
    "strat, X = preprocess(df_individual_for_opt)"
   ]
  },
  {
   "cell_type": "code",
   "execution_count": null,
   "id": "66a3d92e-185e-4673-9de5-5cbdce5f8ff4",
   "metadata": {},
   "outputs": [],
   "source": [
    "test_id = list(tqdm(df_individual_for_opt.id.unique()))"
   ]
  },
  {
   "cell_type": "markdown",
   "id": "d9e9d538-c55e-4461-b012-14f00228bc9c",
   "metadata": {},
   "source": [
    "#### Loader for real intersection"
   ]
  },
  {
   "cell_type": "code",
   "execution_count": null,
   "id": "dc47c4ad-f8e5-439f-a3d5-526568f33247",
   "metadata": {},
   "outputs": [],
   "source": [
    "def get_loader_real(val_X, num_idx, minp, maxp, maxc, fixed, grid_step):\n",
    "    def gen_p(step=grid_step):\n",
    "        vx = list(val_X.values[num_idx][5:])\n",
    "        for p1 in range(minp[0], maxp[0] + 1, step):\n",
    "            for p2 in range(minp[1], min(maxp[1] + 1, maxc + 1 -p1), step):\n",
    "                for p3 in range(minp[2], min(maxp[2] + 1, maxc + 1 - p1 - p2), step):\n",
    "                    if fixed:\n",
    "                        if maxp[3] > maxc - p1 - p2 - p3 > minp[3]:\n",
    "                            p4 = maxc - p1 - p2 - p3\n",
    "                            p = maxc\n",
    "                            yield np.array([p1/p, p2/p, p3/p, p4/p, p/maxc]+vx)\n",
    "                    else:\n",
    "                        for p4 in range(minp[3], min(maxp[3] + 1, maxc + 1 - p1 - p2 - p3), step):\n",
    "                            if p1+p2+p3+p4 <= maxc:\n",
    "                                p = p1+p2+p3+p4\n",
    "                                yield np.array([p1/p, p2/p, p3/p, p4/p, p/maxc]+vx)\n",
    "    \n",
    "    pred_loader = tf.data.Dataset.from_generator(\n",
    "                gen_p,\n",
    "                output_types=tf.dtypes.float64,\n",
    "                output_shapes=(val_X.shape[1],),\n",
    "            )\n",
    "\n",
    "    pred_loader = pred_loader.prefetch(tf.data.experimental.AUTOTUNE).batch(1024)\n",
    "    \n",
    "    return pred_loader, list(gen_p())"
   ]
  },
  {
   "cell_type": "markdown",
   "id": "280187c3-c061-467b-9a94-cfe682e82f3a",
   "metadata": {},
   "source": [
    "## Fixed Cycle Length (180) & Minimum Durations for Pedestrians"
   ]
  },
  {
   "cell_type": "markdown",
   "id": "4736e918-4e29-49e7-8f9b-8302c60ceb28",
   "metadata": {},
   "source": [
    "### Grid 5"
   ]
  },
  {
   "cell_type": "code",
   "execution_count": null,
   "id": "9d35e217-b686-4ab5-aa65-3f8993edc2e6",
   "metadata": {},
   "outputs": [],
   "source": [
    "df_individual_for_opt_grid_5 = df_individual_for_opt"
   ]
  },
  {
   "cell_type": "code",
   "execution_count": null,
   "id": "65d0eae4-04b1-4c79-8b22-622ddd87c52f",
   "metadata": {},
   "outputs": [],
   "source": [
    "min_phase_duration = [5, 5, 5, 5]\n",
    "max_phase_duartion = [120, 120, 120, 120]\n",
    "max_cycle_length = 180 - 12\n",
    "fixed = True\n",
    "stepsize = 5"
   ]
  },
  {
   "cell_type": "code",
   "execution_count": null,
   "id": "f963eb6f-e459-4bea-9d4f-37662c042c4f",
   "metadata": {},
   "outputs": [],
   "source": [
    "for num_idx, idx in enumerate(X.index):\n",
    "    if df_individual_for_opt.loc[idx, 'id'] == 'I1':\n",
    "        min_phase_duration = [5, 43, 5, 30]\n",
    "    elif df_individual_for_opt.loc[idx, 'id'] == 'I2':\n",
    "        min_phase_duration = [5, 46, 5, 36]\n",
    "    elif df_individual_for_opt.loc[idx, 'id'] == 'I3':\n",
    "        min_phase_duration = [5, 46, 5, 30]\n",
    "    \n",
    "    pred_loader, pav = get_loader_real(X, num_idx, min_phase_duration, max_phase_duartion, max_cycle_length, fixed, stepsize)\n",
    "    pred = model.predict(pred_loader)[:,0] # 0: waiting\n",
    "    df_individual_for_opt_grid_5.loc[idx, ['p1', 'p2', 'p3', 'p4']] = postprocess_var(pav[np.argmin(pred)],max_cycle_length)"
   ]
  },
  {
   "cell_type": "code",
   "execution_count": null,
   "id": "25c7aa3d-b133-4b37-99ca-7a2e941f6ef6",
   "metadata": {},
   "outputs": [],
   "source": [
    "df_individual_for_opt_grid_5.to_csv('data/optimized_results/opt_individual_of_multi_grid_5.csv')"
   ]
  },
  {
   "cell_type": "code",
   "execution_count": null,
   "id": "4e8bf7b8-c02c-4bfa-b9a8-2c733c4a67ba",
   "metadata": {},
   "outputs": [],
   "source": []
  }
 ],
 "metadata": {
  "kernelspec": {
   "display_name": "Python38",
   "language": "python",
   "name": "python38"
  },
  "language_info": {
   "codemirror_mode": {
    "name": "ipython",
    "version": 3
   },
   "file_extension": ".py",
   "mimetype": "text/x-python",
   "name": "python",
   "nbconvert_exporter": "python",
   "pygments_lexer": "ipython3",
   "version": "3.8.3"
  }
 },
 "nbformat": 4,
 "nbformat_minor": 5
}
